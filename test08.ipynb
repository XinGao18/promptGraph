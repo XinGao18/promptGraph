{
 "cells": [
  {
   "cell_type": "code",
   "execution_count": null,
   "id": "initial_id",
   "metadata": {
    "collapsed": true
   },
   "outputs": [],
   "source": [
    "import torch\n",
    "from model.LightGCN import *\n",
    "from preprocess.Yelp import *\n",
    "from evaluation.LightGCN_evaluation import *\n",
    "pd.options.display.max_rows = 10\n",
    "device = torch.device('cuda' if torch.cuda.is_available() else 'cpu')\n",
    "path = './dataset/yelp2018'\n",
    "dataset = Yelp(path)\n",
    "\n",
    "# Data(num_nodes=144242, edge_index=[2, 2380730], edge_label_index=[2, 603378])\n",
    "data = dataset.get()\n",
    "num_users, num_books = dataset.getNumber()\n",
    "config = {\n",
    "    'k': 20,\n",
    "    'lr': 0.001,\n",
    "    'epochs': 1000,\n",
    "    'num_layers': 2,\n",
    "    'batch_size': 8192,\n",
    "    'embedding_dim': 64,\n",
    "    'num_users': num_users,\n",
    "    'num_books': num_books,\n",
    "    'tuning_type': None,\n",
    "}\n",
    "model = LightGCN(\n",
    "    num_nodes=data.num_nodes,\n",
    "    embedding_dim=config['embedding_dim'],\n",
    "    num_layers=config['num_layers'],\n",
    ").to(device)"
   ]
  },
  {
   "metadata": {},
   "cell_type": "code",
   "outputs": [],
   "execution_count": null,
   "source": [
    "# Basic setting\n",
    "num_edges = data.edge_index.size(1)\n",
    "perm = torch.randperm(num_edges)\n",
    "split = int(num_edges * 0.1)  # 10% of edges will be retained\n",
    "\n",
    "# Define the data for forget and retain dataset\n",
    "forget_data = Data()\n",
    "retain_data = Data()\n",
    "\n",
    "forget_data.num_nodes = data.num_nodes\n",
    "retain_data.num_nodes = data.num_nodes\n",
    "forget_data.edge_index = data.edge_index[:, perm[:split]]\n",
    "retain_data.edge_index = data.edge_index[:, perm[split:]]\n",
    "forget_data.edge_label_index = data.edge_label_index\n",
    "retain_data.edge_label_index = data.edge_label_index"
   ],
   "id": "e9c360fb6a36c5f9"
  },
  {
   "metadata": {},
   "cell_type": "code",
   "outputs": [],
   "execution_count": null,
   "source": [
    "config['epochs'] = 1000\n",
    "retrain_lightgcn = LightGCN(\n",
    "    num_nodes=data.num_nodes,\n",
    "    embedding_dim=config['embedding_dim'],\n",
    "    num_layers=config['num_layers'],\n",
    ").to(device)\n",
    "retrain_lightgcn, epoch_tracks, test_topks = lightgcn_eva(retrain_lightgcn, config, retain_data, device)"
   ],
   "id": "ee12345270fa8e2f"
  },
  {
   "metadata": {},
   "cell_type": "code",
   "outputs": [],
   "execution_count": null,
   "source": [
    "# Test on the forget data\n",
    "lightgcn_forget_data_eva(retrain_lightgcn, None, forget_data, config['num_users'], config['k'], config['batch_size'], device)"
   ],
   "id": "df22db5154db8b62"
  },
  {
   "metadata": {},
   "cell_type": "code",
   "outputs": [],
   "execution_count": null,
   "source": [
    "# Define the model\n",
    "teacher = LightGCN(\n",
    "    num_nodes=data.num_nodes,\n",
    "    embedding_dim=config['embedding_dim'],\n",
    "    num_layers=config['num_layers'],\n",
    ").to(device)\n",
    "student = LightGCN(\n",
    "    num_nodes=data.num_nodes,\n",
    "    embedding_dim=config['embedding_dim'],\n",
    "    num_layers=config['num_layers'],\n",
    ").to(device)\n",
    "\n",
    "# Load the model\n",
    "teacher.load_state_dict(torch.load(f\"lightGCN_Yelp2018_{config['epochs']}_Epochs_Top_{config['k']}.pt\"))\n",
    "student.load_state_dict(torch.load(f\"lightGCN_Yelp2018_{config['epochs']}_Epochs_Top_{config['k']}.pt\"))"
   ],
   "id": "c11e9c77d2beb064"
  },
  {
   "metadata": {},
   "cell_type": "code",
   "outputs": [],
   "execution_count": null,
   "source": [
    "# Setting the basic hyperparameters\n",
    "config['beta'] = 0.7\n",
    "config['alpha'] = 0.3\n",
    "config['epochs'] = 50\n",
    "config['gamma'] = 1e-6 # contrastive loss\n",
    "config['delta'] = 1e-3 # regularization loss\n",
    "config['tuning_type'] = 'gpf'\n",
    "config['weight_decay'] = 0.001\n",
    "config['regularization'] = False\n",
    "config['Contrastive_loss'] = False\n",
    "student, prompt, epoch_tracks, test_topks = prompt_lightgcn_unlearning_eva(teacher, student, retain_data, forget_data, config, device)"
   ],
   "id": "27f8acc9b3da656"
  },
  {
   "metadata": {},
   "cell_type": "code",
   "outputs": [],
   "execution_count": null,
   "source": [
    "# Test on the forget data\n",
    "lightgcn_forget_data_eva(student, prompt, forget_data, config['num_users'], config['k'], config['batch_size'], device)"
   ],
   "id": "810ee823e720bd64"
  },
  {
   "metadata": {},
   "cell_type": "code",
   "outputs": [],
   "execution_count": null,
   "source": [
    "# Setting the basic hyperparameters\n",
    "config['contrastive_loss'] = False\n",
    "config['regularization'] = True\n",
    "\n",
    "student, prompt, epoch_tracks, test_topks = prompt_lightgcn_unlearning_eva(teacher, student, retain_data, forget_data, config, device)"
   ],
   "id": "844fff5e154f9968"
  },
  {
   "metadata": {},
   "cell_type": "code",
   "outputs": [],
   "execution_count": null,
   "source": [
    "# Test on the forget data\n",
    "lightgcn_forget_data_eva(student, prompt, forget_data, config['num_users'], config['k'], config['batch_size'], device)"
   ],
   "id": "490c9e110fee58f"
  },
  {
   "metadata": {},
   "cell_type": "code",
   "outputs": [],
   "execution_count": null,
   "source": [
    "# Setting the basic hyperparameters\n",
    "config['contrastive_loss'] = True\n",
    "config['regularization'] = False\n",
    "\n",
    "student, prompt, epoch_tracks, test_topks = prompt_lightgcn_unlearning_eva(teacher, student, retain_data, forget_data, config, device)"
   ],
   "id": "ac4d70674d0e2a82"
  },
  {
   "metadata": {},
   "cell_type": "code",
   "outputs": [],
   "execution_count": null,
   "source": [
    "# Test on the forget data\n",
    "lightgcn_forget_data_eva(student, prompt, forget_data, config['num_users'], config['k'], config['batch_size'], device)"
   ],
   "id": "a626787c515a21e"
  },
  {
   "metadata": {},
   "cell_type": "code",
   "outputs": [],
   "execution_count": null,
   "source": [
    "# Setting the basic hyperparameters\n",
    "config['contrastive_loss'] = True\n",
    "config['regularization'] = True\n",
    "\n",
    "student, prompt, epoch_tracks, test_topks = prompt_lightgcn_unlearning_eva(teacher, student, retain_data, forget_data, config, device)"
   ],
   "id": "7567a01e01b80199"
  },
  {
   "metadata": {},
   "cell_type": "code",
   "outputs": [],
   "execution_count": null,
   "source": [
    "# Test on the forget data\n",
    "lightgcn_forget_data_eva(student, prompt, forget_data, config['num_users'], config['k'], config['batch_size'], device)"
   ],
   "id": "c783f7a24b592902"
  },
  {
   "metadata": {},
   "cell_type": "code",
   "outputs": [],
   "execution_count": null,
   "source": [
    "config['tuning_type'] = 'gpf-plus'\n",
    "config[\"number_p\"] = 10 # The number of prompts\n",
    "# Setting the basic hyperparameters\n",
    "config['contrastive_loss'] = True\n",
    "config['regularization'] = True\n",
    "\n",
    "student, prompt, epoch_tracks, test_topks = prompt_lightgcn_unlearning_eva(teacher, student, retain_data, forget_data, config, device)"
   ],
   "id": "59872f2d2a2f7c1e"
  },
  {
   "metadata": {},
   "cell_type": "code",
   "outputs": [],
   "execution_count": null,
   "source": [
    "# Test on the forget data\n",
    "lightgcn_forget_data_eva(student, prompt, forget_data, config['num_users'], config['k'], config['batch_size'], device)"
   ],
   "id": "eee63fe56574ab0a"
  }
 ],
 "metadata": {
  "kernelspec": {
   "display_name": "Python 3",
   "language": "python",
   "name": "python3"
  },
  "language_info": {
   "codemirror_mode": {
    "name": "ipython",
    "version": 2
   },
   "file_extension": ".py",
   "mimetype": "text/x-python",
   "name": "python",
   "nbconvert_exporter": "python",
   "pygments_lexer": "ipython2",
   "version": "2.7.6"
  }
 },
 "nbformat": 4,
 "nbformat_minor": 5
}
