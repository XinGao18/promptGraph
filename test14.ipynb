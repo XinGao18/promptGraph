{
 "cells": [
  {
   "cell_type": "code",
   "execution_count": 1,
   "id": "initial_id",
   "metadata": {
    "collapsed": true
   },
   "outputs": [],
   "source": [
    "from model.MF import *\n",
    "from preprocess.Gowalla import *\n",
    "from evaluation.MF_evaluation import *\n",
    "pd.options.display.max_rows = 10\n",
    "device = torch.device('cuda' if torch.cuda.is_available() else 'cpu')\n",
    "path = './dataset/Gowalla'\n",
    "dataset = Gowalla(path)\n",
    "\n",
    "# Data(num_nodes=144242, edge_index=[2, 2380730], edge_label_index=[2, 603378])\n",
    "data = dataset.get()\n",
    "num_users, num_books = dataset.getNumber()\n",
    "config = {\n",
    "    'k': 20,\n",
    "    'learning_rate': 1e-5,  # over-fitting\n",
    "    'epochs': 100,\n",
    "    'num_layers': 2,\n",
    "    'batch_size': 8192,\n",
    "    'embedding_dim': 64,\n",
    "    'num_users': num_users,\n",
    "    'num_books': num_books,\n",
    "    'tuning_type': None,\n",
    "    \"weight_decay\": 1e-7,\n",
    "    'global_bias':(data.edge_index.size(1) + data.edge_label_index.size(1) + 2) / (num_books * num_users)\n",
    "}\n",
    "model = MF(\n",
    "    num_users= config['num_users'],\n",
    "    num_items= config['num_books'],\n",
    "    mean = config['global_bias'],\n",
    "    embedding_dim = config['embedding_dim']\n",
    ").to(device)"
   ]
  },
  {
   "cell_type": "code",
   "execution_count": 2,
   "id": "1646cf8b6cad85f1",
   "metadata": {},
   "outputs": [],
   "source": [
    "# Basic setting\n",
    "num_edges = data.edge_index.size(1)\n",
    "perm = torch.randperm(num_edges)\n",
    "split = int(num_edges * 0.1)  # 10% of edges will be retained\n",
    "\n",
    "# Define the data for forget and retain dataset\n",
    "forget_data = Data()\n",
    "retain_data = Data()\n",
    "\n",
    "forget_data.num_nodes = data.num_nodes\n",
    "retain_data.num_nodes = data.num_nodes\n",
    "forget_data.edge_index = data.edge_index[:, perm[:split]]\n",
    "retain_data.edge_index = data.edge_index[:, perm[split:]]\n",
    "forget_data.edge_label_index = data.edge_label_index\n",
    "retain_data.edge_label_index = data.edge_label_index"
   ]
  },
  {
   "cell_type": "code",
   "execution_count": 3,
   "id": "e4382a7b006437b9",
   "metadata": {},
   "outputs": [
    {
     "name": "stdout",
     "output_type": "stream",
     "text": [
      "Epoch 1/100, Train Loss: 0.9978, HR@20: 0.0002, Recall@20: 0.0005, NDCG@20: 0.0003\n",
      "Epoch 2/100, Train Loss: 0.9959, HR@20: 0.0002, Recall@20: 0.0005, NDCG@20: 0.0003\n",
      "Epoch 3/100, Train Loss: 0.9940, HR@20: 0.0002, Recall@20: 0.0005, NDCG@20: 0.0003\n",
      "Epoch 4/100, Train Loss: 0.9921, HR@20: 0.0002, Recall@20: 0.0005, NDCG@20: 0.0003\n",
      "Epoch 5/100, Train Loss: 0.9902, HR@20: 0.0002, Recall@20: 0.0005, NDCG@20: 0.0003\n",
      "Epoch 6/100, Train Loss: 0.9884, HR@20: 0.0002, Recall@20: 0.0005, NDCG@20: 0.0003\n",
      "Epoch 7/100, Train Loss: 0.9865, HR@20: 0.0002, Recall@20: 0.0005, NDCG@20: 0.0003\n",
      "Epoch 8/100, Train Loss: 0.9846, HR@20: 0.0002, Recall@20: 0.0005, NDCG@20: 0.0003\n",
      "Epoch 9/100, Train Loss: 0.9828, HR@20: 0.0002, Recall@20: 0.0005, NDCG@20: 0.0003\n",
      "Epoch 10/100, Train Loss: 0.9809, HR@20: 0.0002, Recall@20: 0.0005, NDCG@20: 0.0004\n",
      "Epoch 11/100, Train Loss: 0.9791, HR@20: 0.0002, Recall@20: 0.0005, NDCG@20: 0.0003\n",
      "Epoch 12/100, Train Loss: 0.9772, HR@20: 0.0002, Recall@20: 0.0005, NDCG@20: 0.0004\n",
      "Epoch 13/100, Train Loss: 0.9754, HR@20: 0.0002, Recall@20: 0.0005, NDCG@20: 0.0003\n",
      "Epoch 14/100, Train Loss: 0.9736, HR@20: 0.0002, Recall@20: 0.0005, NDCG@20: 0.0003\n",
      "Epoch 15/100, Train Loss: 0.9717, HR@20: 0.0002, Recall@20: 0.0005, NDCG@20: 0.0004\n",
      "Epoch 16/100, Train Loss: 0.9699, HR@20: 0.0002, Recall@20: 0.0005, NDCG@20: 0.0004\n",
      "Epoch 17/100, Train Loss: 0.9681, HR@20: 0.0002, Recall@20: 0.0005, NDCG@20: 0.0004\n",
      "Epoch 18/100, Train Loss: 0.9663, HR@20: 0.0002, Recall@20: 0.0006, NDCG@20: 0.0004\n",
      "Epoch 19/100, Train Loss: 0.9645, HR@20: 0.0002, Recall@20: 0.0006, NDCG@20: 0.0004\n",
      "Epoch 20/100, Train Loss: 0.9627, HR@20: 0.0003, Recall@20: 0.0006, NDCG@20: 0.0004\n",
      "Epoch 21/100, Train Loss: 0.9608, HR@20: 0.0003, Recall@20: 0.0007, NDCG@20: 0.0005\n",
      "Epoch 22/100, Train Loss: 0.9590, HR@20: 0.0003, Recall@20: 0.0007, NDCG@20: 0.0005\n",
      "Epoch 23/100, Train Loss: 0.9572, HR@20: 0.0003, Recall@20: 0.0007, NDCG@20: 0.0005\n",
      "Epoch 24/100, Train Loss: 0.9555, HR@20: 0.0003, Recall@20: 0.0008, NDCG@20: 0.0006\n",
      "Epoch 25/100, Train Loss: 0.9537, HR@20: 0.0004, Recall@20: 0.0008, NDCG@20: 0.0006\n",
      "Epoch 26/100, Train Loss: 0.9519, HR@20: 0.0004, Recall@20: 0.0008, NDCG@20: 0.0007\n",
      "Epoch 27/100, Train Loss: 0.9501, HR@20: 0.0004, Recall@20: 0.0010, NDCG@20: 0.0007\n",
      "Epoch 28/100, Train Loss: 0.9483, HR@20: 0.0005, Recall@20: 0.0010, NDCG@20: 0.0008\n",
      "Epoch 29/100, Train Loss: 0.9465, HR@20: 0.0005, Recall@20: 0.0012, NDCG@20: 0.0009\n",
      "Epoch 30/100, Train Loss: 0.9447, HR@20: 0.0006, Recall@20: 0.0013, NDCG@20: 0.0010\n",
      "Epoch 31/100, Train Loss: 0.9429, HR@20: 0.0007, Recall@20: 0.0014, NDCG@20: 0.0012\n",
      "Epoch 32/100, Train Loss: 0.9411, HR@20: 0.0008, Recall@20: 0.0016, NDCG@20: 0.0013\n",
      "Epoch 33/100, Train Loss: 0.9393, HR@20: 0.0009, Recall@20: 0.0018, NDCG@20: 0.0016\n",
      "Epoch 34/100, Train Loss: 0.9376, HR@20: 0.0010, Recall@20: 0.0021, NDCG@20: 0.0018\n",
      "Epoch 35/100, Train Loss: 0.9358, HR@20: 0.0012, Recall@20: 0.0024, NDCG@20: 0.0022\n",
      "Epoch 36/100, Train Loss: 0.9340, HR@20: 0.0014, Recall@20: 0.0028, NDCG@20: 0.0025\n",
      "Epoch 37/100, Train Loss: 0.9322, HR@20: 0.0016, Recall@20: 0.0031, NDCG@20: 0.0029\n",
      "Epoch 38/100, Train Loss: 0.9304, HR@20: 0.0018, Recall@20: 0.0037, NDCG@20: 0.0034\n",
      "Epoch 39/100, Train Loss: 0.9286, HR@20: 0.0021, Recall@20: 0.0042, NDCG@20: 0.0040\n",
      "Epoch 40/100, Train Loss: 0.9268, HR@20: 0.0024, Recall@20: 0.0048, NDCG@20: 0.0045\n",
      "Epoch 41/100, Train Loss: 0.9250, HR@20: 0.0028, Recall@20: 0.0055, NDCG@20: 0.0052\n",
      "Epoch 42/100, Train Loss: 0.9231, HR@20: 0.0031, Recall@20: 0.0063, NDCG@20: 0.0059\n",
      "Epoch 43/100, Train Loss: 0.9213, HR@20: 0.0035, Recall@20: 0.0072, NDCG@20: 0.0067\n",
      "Epoch 44/100, Train Loss: 0.9195, HR@20: 0.0039, Recall@20: 0.0080, NDCG@20: 0.0074\n",
      "Epoch 45/100, Train Loss: 0.9177, HR@20: 0.0043, Recall@20: 0.0089, NDCG@20: 0.0083\n",
      "Epoch 46/100, Train Loss: 0.9158, HR@20: 0.0047, Recall@20: 0.0097, NDCG@20: 0.0091\n",
      "Epoch 47/100, Train Loss: 0.9140, HR@20: 0.0051, Recall@20: 0.0107, NDCG@20: 0.0100\n",
      "Epoch 48/100, Train Loss: 0.9121, HR@20: 0.0055, Recall@20: 0.0117, NDCG@20: 0.0109\n",
      "Epoch 49/100, Train Loss: 0.9102, HR@20: 0.0060, Recall@20: 0.0126, NDCG@20: 0.0118\n",
      "Epoch 50/100, Train Loss: 0.9084, HR@20: 0.0065, Recall@20: 0.0138, NDCG@20: 0.0128\n",
      "Epoch 51/100, Train Loss: 0.9065, HR@20: 0.0069, Recall@20: 0.0150, NDCG@20: 0.0138\n",
      "Epoch 52/100, Train Loss: 0.9046, HR@20: 0.0073, Recall@20: 0.0161, NDCG@20: 0.0148\n",
      "Epoch 53/100, Train Loss: 0.9027, HR@20: 0.0078, Recall@20: 0.0172, NDCG@20: 0.0158\n",
      "Epoch 54/100, Train Loss: 0.9007, HR@20: 0.0083, Recall@20: 0.0184, NDCG@20: 0.0168\n",
      "Epoch 55/100, Train Loss: 0.8988, HR@20: 0.0087, Recall@20: 0.0198, NDCG@20: 0.0179\n",
      "Epoch 56/100, Train Loss: 0.8968, HR@20: 0.0092, Recall@20: 0.0209, NDCG@20: 0.0189\n",
      "Epoch 57/100, Train Loss: 0.8949, HR@20: 0.0096, Recall@20: 0.0222, NDCG@20: 0.0199\n",
      "Epoch 58/100, Train Loss: 0.8929, HR@20: 0.0100, Recall@20: 0.0235, NDCG@20: 0.0210\n",
      "Epoch 59/100, Train Loss: 0.8909, HR@20: 0.0105, Recall@20: 0.0248, NDCG@20: 0.0221\n",
      "Epoch 60/100, Train Loss: 0.8888, HR@20: 0.0109, Recall@20: 0.0262, NDCG@20: 0.0231\n",
      "Epoch 61/100, Train Loss: 0.8868, HR@20: 0.0113, Recall@20: 0.0274, NDCG@20: 0.0242\n",
      "Epoch 62/100, Train Loss: 0.8848, HR@20: 0.0118, Recall@20: 0.0288, NDCG@20: 0.0253\n",
      "Epoch 63/100, Train Loss: 0.8827, HR@20: 0.0122, Recall@20: 0.0301, NDCG@20: 0.0263\n",
      "Epoch 64/100, Train Loss: 0.8806, HR@20: 0.0126, Recall@20: 0.0314, NDCG@20: 0.0274\n",
      "Epoch 65/100, Train Loss: 0.8785, HR@20: 0.0130, Recall@20: 0.0328, NDCG@20: 0.0284\n",
      "Epoch 66/100, Train Loss: 0.8763, HR@20: 0.0134, Recall@20: 0.0342, NDCG@20: 0.0295\n",
      "Epoch 67/100, Train Loss: 0.8742, HR@20: 0.0138, Recall@20: 0.0354, NDCG@20: 0.0305\n",
      "Epoch 68/100, Train Loss: 0.8720, HR@20: 0.0141, Recall@20: 0.0366, NDCG@20: 0.0315\n",
      "Epoch 69/100, Train Loss: 0.8698, HR@20: 0.0144, Recall@20: 0.0375, NDCG@20: 0.0323\n",
      "Epoch 70/100, Train Loss: 0.8676, HR@20: 0.0147, Recall@20: 0.0388, NDCG@20: 0.0333\n",
      "Epoch 71/100, Train Loss: 0.8654, HR@20: 0.0151, Recall@20: 0.0401, NDCG@20: 0.0343\n",
      "Epoch 72/100, Train Loss: 0.8631, HR@20: 0.0154, Recall@20: 0.0411, NDCG@20: 0.0352\n",
      "Epoch 73/100, Train Loss: 0.8609, HR@20: 0.0157, Recall@20: 0.0422, NDCG@20: 0.0361\n",
      "Epoch 74/100, Train Loss: 0.8586, HR@20: 0.0159, Recall@20: 0.0433, NDCG@20: 0.0370\n",
      "Epoch 75/100, Train Loss: 0.8562, HR@20: 0.0162, Recall@20: 0.0444, NDCG@20: 0.0379\n",
      "Epoch 76/100, Train Loss: 0.8539, HR@20: 0.0164, Recall@20: 0.0452, NDCG@20: 0.0386\n",
      "Epoch 77/100, Train Loss: 0.8515, HR@20: 0.0167, Recall@20: 0.0462, NDCG@20: 0.0395\n",
      "Epoch 78/100, Train Loss: 0.8492, HR@20: 0.0169, Recall@20: 0.0471, NDCG@20: 0.0403\n",
      "Epoch 79/100, Train Loss: 0.8467, HR@20: 0.0173, Recall@20: 0.0483, NDCG@20: 0.0411\n",
      "Epoch 80/100, Train Loss: 0.8443, HR@20: 0.0176, Recall@20: 0.0493, NDCG@20: 0.0419\n",
      "Epoch 81/100, Train Loss: 0.8419, HR@20: 0.0178, Recall@20: 0.0504, NDCG@20: 0.0426\n",
      "Epoch 82/100, Train Loss: 0.8394, HR@20: 0.0181, Recall@20: 0.0513, NDCG@20: 0.0434\n",
      "Epoch 83/100, Train Loss: 0.8369, HR@20: 0.0182, Recall@20: 0.0520, NDCG@20: 0.0441\n",
      "Epoch 84/100, Train Loss: 0.8344, HR@20: 0.0185, Recall@20: 0.0529, NDCG@20: 0.0448\n",
      "Epoch 85/100, Train Loss: 0.8318, HR@20: 0.0187, Recall@20: 0.0538, NDCG@20: 0.0456\n",
      "Epoch 86/100, Train Loss: 0.8293, HR@20: 0.0189, Recall@20: 0.0547, NDCG@20: 0.0463\n",
      "Epoch 87/100, Train Loss: 0.8267, HR@20: 0.0191, Recall@20: 0.0554, NDCG@20: 0.0469\n",
      "Epoch 88/100, Train Loss: 0.8241, HR@20: 0.0193, Recall@20: 0.0562, NDCG@20: 0.0475\n",
      "Epoch 89/100, Train Loss: 0.8214, HR@20: 0.0195, Recall@20: 0.0567, NDCG@20: 0.0480\n",
      "Epoch 90/100, Train Loss: 0.8188, HR@20: 0.0196, Recall@20: 0.0574, NDCG@20: 0.0485\n",
      "Epoch 91/100, Train Loss: 0.8161, HR@20: 0.0198, Recall@20: 0.0580, NDCG@20: 0.0491\n",
      "Epoch 92/100, Train Loss: 0.8134, HR@20: 0.0200, Recall@20: 0.0587, NDCG@20: 0.0495\n",
      "Epoch 93/100, Train Loss: 0.8107, HR@20: 0.0201, Recall@20: 0.0593, NDCG@20: 0.0500\n",
      "Epoch 94/100, Train Loss: 0.8079, HR@20: 0.0203, Recall@20: 0.0602, NDCG@20: 0.0505\n",
      "Epoch 95/100, Train Loss: 0.8052, HR@20: 0.0204, Recall@20: 0.0607, NDCG@20: 0.0509\n",
      "Epoch 96/100, Train Loss: 0.8024, HR@20: 0.0206, Recall@20: 0.0611, NDCG@20: 0.0513\n",
      "Epoch 97/100, Train Loss: 0.7996, HR@20: 0.0207, Recall@20: 0.0617, NDCG@20: 0.0518\n",
      "Epoch 98/100, Train Loss: 0.7967, HR@20: 0.0208, Recall@20: 0.0623, NDCG@20: 0.0522\n",
      "Epoch 99/100, Train Loss: 0.7939, HR@20: 0.0209, Recall@20: 0.0627, NDCG@20: 0.0525\n",
      "Epoch 100/100, Train Loss: 0.7910, HR@20: 0.0211, Recall@20: 0.0632, NDCG@20: 0.0529\n",
      "Total time: 1480.67s\n"
     ]
    }
   ],
   "source": [
    "config['epochs'] = 100\n",
    "retrain_model = MF(\n",
    "    num_users= config['num_users'],\n",
    "    num_items= config['num_books'],\n",
    "    mean = config['global_bias'],\n",
    "    embedding_dim = config['embedding_dim']\n",
    ").to(device)\n",
    "retrain_model, recall, ndcg = MF_based_eva(retrain_model, config, retain_data, device)"
   ]
  },
  {
   "cell_type": "code",
   "execution_count": 4,
   "id": "3a0b6893960bd10c",
   "metadata": {},
   "outputs": [
    {
     "name": "stdout",
     "output_type": "stream",
     "text": [
      "HR@20: 0.0091, Recall@20: 0.0634, NDCG@20: 0.0330\n"
     ]
    }
   ],
   "source": [
    "MF_forget_data_eva(retrain_model, None, forget_data, num_users, config['k'], config['batch_size'], device)"
   ]
  },
  {
   "cell_type": "code",
   "execution_count": 5,
   "id": "ae40156801f071cd",
   "metadata": {},
   "outputs": [
    {
     "data": {
      "text/plain": [
       "<All keys matched successfully>"
      ]
     },
     "execution_count": 5,
     "metadata": {},
     "output_type": "execute_result"
    }
   ],
   "source": [
    "# Define the model\n",
    "teacher = MF(\n",
    "    num_users= config['num_users'],\n",
    "    num_items= config['num_books'],\n",
    "    mean = config['global_bias'],\n",
    "    embedding_dim = config['embedding_dim']\n",
    ").to(device)\n",
    "student = MF(\n",
    "    num_users= config['num_users'],\n",
    "    num_items= config['num_books'],\n",
    "    mean = config['global_bias'],\n",
    "    embedding_dim = config['embedding_dim']\n",
    ").to(device)\n",
    "\n",
    "# Load the model\n",
    "teacher.load_state_dict(torch.load(f\"MF_Gowalla_{config['epochs']}_Epochs_Top_{config['k']}.pt\"))\n",
    "student.load_state_dict(torch.load(f\"MF_Gowalla_{config['epochs']}_Epochs_Top_{config['k']}.pt\"))"
   ]
  },
  {
   "cell_type": "code",
   "execution_count": 8,
   "id": "7b6f8f588fe9f30e",
   "metadata": {},
   "outputs": [
    {
     "name": "stderr",
     "output_type": "stream",
     "text": [
      "c:\\Users\\MSI\\.conda\\envs\\master\\lib\\site-packages\\torch_geometric\\data\\storage.py:450: UserWarning: Unable to accurately infer 'num_nodes' from the attribute set '{'edge_label_index', 'edge_index', 'x'}'. Please explicitly set 'num_nodes' as an attribute of 'data' to suppress this warning\n",
      "  warnings.warn(\n"
     ]
    },
    {
     "name": "stdout",
     "output_type": "stream",
     "text": [
      "Epoch 1/50, Train Loss: 0.6986, HR@20: 0.0034, Recall@20: 0.0049, NDCG@20: 0.0055\n",
      "Epoch 2/50, Train Loss: 0.6986, HR@20: 0.0034, Recall@20: 0.0049, NDCG@20: 0.0055\n",
      "Epoch 3/50, Train Loss: 0.6986, HR@20: 0.0034, Recall@20: 0.0049, NDCG@20: 0.0055\n",
      "Epoch 4/50, Train Loss: 0.6985, HR@20: 0.0034, Recall@20: 0.0049, NDCG@20: 0.0054\n",
      "Epoch 5/50, Train Loss: 0.6985, HR@20: 0.0034, Recall@20: 0.0048, NDCG@20: 0.0054\n",
      "Epoch 6/50, Train Loss: 0.6985, HR@20: 0.0034, Recall@20: 0.0048, NDCG@20: 0.0054\n",
      "Epoch 7/50, Train Loss: 0.6985, HR@20: 0.0034, Recall@20: 0.0048, NDCG@20: 0.0054\n",
      "Epoch 8/50, Train Loss: 0.6985, HR@20: 0.0033, Recall@20: 0.0048, NDCG@20: 0.0054\n",
      "Epoch 9/50, Train Loss: 0.6985, HR@20: 0.0033, Recall@20: 0.0048, NDCG@20: 0.0054\n",
      "Epoch 10/50, Train Loss: 0.6985, HR@20: 0.0033, Recall@20: 0.0048, NDCG@20: 0.0053\n",
      "Epoch 11/50, Train Loss: 0.6985, HR@20: 0.0033, Recall@20: 0.0047, NDCG@20: 0.0053\n",
      "Epoch 12/50, Train Loss: 0.6985, HR@20: 0.0033, Recall@20: 0.0047, NDCG@20: 0.0053\n",
      "Epoch 13/50, Train Loss: 0.6985, HR@20: 0.0033, Recall@20: 0.0047, NDCG@20: 0.0053\n",
      "Epoch 14/50, Train Loss: 0.6985, HR@20: 0.0033, Recall@20: 0.0047, NDCG@20: 0.0053\n",
      "Epoch 15/50, Train Loss: 0.6985, HR@20: 0.0033, Recall@20: 0.0047, NDCG@20: 0.0053\n",
      "Epoch 16/50, Train Loss: 0.6985, HR@20: 0.0033, Recall@20: 0.0047, NDCG@20: 0.0053\n",
      "Epoch 17/50, Train Loss: 0.6985, HR@20: 0.0033, Recall@20: 0.0047, NDCG@20: 0.0053\n",
      "Epoch 18/50, Train Loss: 0.6985, HR@20: 0.0033, Recall@20: 0.0047, NDCG@20: 0.0052\n",
      "Epoch 19/50, Train Loss: 0.6985, HR@20: 0.0033, Recall@20: 0.0047, NDCG@20: 0.0052\n",
      "Epoch 20/50, Train Loss: 0.6985, HR@20: 0.0032, Recall@20: 0.0047, NDCG@20: 0.0052\n",
      "Epoch 21/50, Train Loss: 0.6985, HR@20: 0.0032, Recall@20: 0.0047, NDCG@20: 0.0052\n",
      "Epoch 22/50, Train Loss: 0.6985, HR@20: 0.0032, Recall@20: 0.0047, NDCG@20: 0.0052\n",
      "Epoch 23/50, Train Loss: 0.6984, HR@20: 0.0032, Recall@20: 0.0046, NDCG@20: 0.0052\n",
      "Epoch 24/50, Train Loss: 0.6984, HR@20: 0.0032, Recall@20: 0.0046, NDCG@20: 0.0052\n",
      "Epoch 25/50, Train Loss: 0.6984, HR@20: 0.0032, Recall@20: 0.0046, NDCG@20: 0.0052\n",
      "Epoch 26/50, Train Loss: 0.6984, HR@20: 0.0032, Recall@20: 0.0046, NDCG@20: 0.0051\n",
      "Epoch 27/50, Train Loss: 0.6984, HR@20: 0.0032, Recall@20: 0.0046, NDCG@20: 0.0051\n",
      "Epoch 28/50, Train Loss: 0.6984, HR@20: 0.0032, Recall@20: 0.0046, NDCG@20: 0.0051\n",
      "Epoch 29/50, Train Loss: 0.6984, HR@20: 0.0032, Recall@20: 0.0046, NDCG@20: 0.0051\n",
      "Epoch 30/50, Train Loss: 0.6984, HR@20: 0.0032, Recall@20: 0.0046, NDCG@20: 0.0051\n",
      "Epoch 31/50, Train Loss: 0.6984, HR@20: 0.0032, Recall@20: 0.0046, NDCG@20: 0.0051\n",
      "Epoch 32/50, Train Loss: 0.6984, HR@20: 0.0031, Recall@20: 0.0046, NDCG@20: 0.0051\n",
      "Epoch 33/50, Train Loss: 0.6984, HR@20: 0.0031, Recall@20: 0.0046, NDCG@20: 0.0051\n",
      "Epoch 34/50, Train Loss: 0.6984, HR@20: 0.0031, Recall@20: 0.0046, NDCG@20: 0.0050\n",
      "Epoch 35/50, Train Loss: 0.6984, HR@20: 0.0031, Recall@20: 0.0046, NDCG@20: 0.0050\n",
      "Epoch 36/50, Train Loss: 0.6984, HR@20: 0.0031, Recall@20: 0.0046, NDCG@20: 0.0050\n",
      "Epoch 37/50, Train Loss: 0.6984, HR@20: 0.0031, Recall@20: 0.0045, NDCG@20: 0.0050\n",
      "Epoch 38/50, Train Loss: 0.6984, HR@20: 0.0031, Recall@20: 0.0045, NDCG@20: 0.0050\n",
      "Epoch 39/50, Train Loss: 0.6984, HR@20: 0.0031, Recall@20: 0.0045, NDCG@20: 0.0050\n",
      "Epoch 40/50, Train Loss: 0.6984, HR@20: 0.0031, Recall@20: 0.0045, NDCG@20: 0.0050\n",
      "Epoch 41/50, Train Loss: 0.6983, HR@20: 0.0031, Recall@20: 0.0045, NDCG@20: 0.0050\n",
      "Epoch 42/50, Train Loss: 0.6983, HR@20: 0.0031, Recall@20: 0.0045, NDCG@20: 0.0050\n",
      "Epoch 43/50, Train Loss: 0.6983, HR@20: 0.0031, Recall@20: 0.0045, NDCG@20: 0.0050\n",
      "Epoch 44/50, Train Loss: 0.6983, HR@20: 0.0031, Recall@20: 0.0045, NDCG@20: 0.0049\n",
      "Epoch 45/50, Train Loss: 0.6983, HR@20: 0.0030, Recall@20: 0.0045, NDCG@20: 0.0049\n",
      "Epoch 46/50, Train Loss: 0.6983, HR@20: 0.0030, Recall@20: 0.0045, NDCG@20: 0.0049\n",
      "Epoch 47/50, Train Loss: 0.6983, HR@20: 0.0030, Recall@20: 0.0044, NDCG@20: 0.0049\n",
      "Epoch 48/50, Train Loss: 0.6983, HR@20: 0.0030, Recall@20: 0.0044, NDCG@20: 0.0049\n",
      "Epoch 49/50, Train Loss: 0.6983, HR@20: 0.0030, Recall@20: 0.0044, NDCG@20: 0.0049\n",
      "Epoch 50/50, Train Loss: 0.6983, HR@20: 0.0030, Recall@20: 0.0044, NDCG@20: 0.0048\n",
      "Running time: 684.23s\n"
     ]
    }
   ],
   "source": [
    "# Setting the basic hyperparameters\n",
    "config['beta'] = 0.7\n",
    "config['alpha'] = 0.3\n",
    "config['epochs'] = 50\n",
    "config['gamma'] = 1e-6 # contrastive loss\n",
    "config['delta'] = 1e-3 # regularization loss\n",
    "config['tuning_type'] = 'gpf'\n",
    "config['weight_decay'] = 0.001\n",
    "config['regularization'] = False\n",
    "config['Contrastive_loss'] = False\n",
    "student, prompt= prompt_MF_unlearning_eva(teacher, student, config, retain_data, forget_data, device)"
   ]
  },
  {
   "cell_type": "code",
   "execution_count": 9,
   "id": "17de6fb9dddaa2b2",
   "metadata": {},
   "outputs": [
    {
     "name": "stdout",
     "output_type": "stream",
     "text": [
      "HR@20: 0.0016, Recall@20: 0.0070, NDCG@20: 0.0046\n"
     ]
    }
   ],
   "source": [
    "MF_forget_data_eva(student, prompt, forget_data, num_users, config['k'], config['batch_size'], device)"
   ]
  },
  {
   "cell_type": "code",
   "execution_count": null,
   "id": "e7bcf194d03a0ee0",
   "metadata": {},
   "outputs": [],
   "source": [
    "# Setting the basic hyperparameters\n",
    "config['Contrastive_loss'] = False\n",
    "config['regularization'] = True\n",
    "\n",
    "student, prompt, epoch_tracks, test_topks = prompt_MF_unlearning_eva(teacher, student, config, retain_data, forget_data, device)"
   ]
  },
  {
   "cell_type": "code",
   "execution_count": null,
   "id": "8b0dda69207f7f57",
   "metadata": {},
   "outputs": [],
   "source": [
    "MF_forget_data_eva(student, prompt, forget_data, num_users, config['k'], config['batch_size'], device)"
   ]
  },
  {
   "cell_type": "code",
   "execution_count": 12,
   "id": "8c5027a06bd758d1",
   "metadata": {},
   "outputs": [
    {
     "name": "stdout",
     "output_type": "stream",
     "text": [
      "Epoch 1/50, Train Loss: 0.7288, HR@20: 0.0094, Recall@20: 0.0175, NDCG@20: 0.0158\n",
      "Epoch 2/50, Train Loss: 0.7287, HR@20: 0.0094, Recall@20: 0.0175, NDCG@20: 0.0159\n",
      "Epoch 3/50, Train Loss: 0.7287, HR@20: 0.0094, Recall@20: 0.0176, NDCG@20: 0.0159\n",
      "Epoch 4/50, Train Loss: 0.7286, HR@20: 0.0094, Recall@20: 0.0176, NDCG@20: 0.0159\n",
      "Epoch 5/50, Train Loss: 0.7286, HR@20: 0.0094, Recall@20: 0.0176, NDCG@20: 0.0159\n",
      "Epoch 6/50, Train Loss: 0.7285, HR@20: 0.0094, Recall@20: 0.0176, NDCG@20: 0.0159\n",
      "Epoch 7/50, Train Loss: 0.7285, HR@20: 0.0094, Recall@20: 0.0176, NDCG@20: 0.0159\n",
      "Epoch 8/50, Train Loss: 0.7284, HR@20: 0.0094, Recall@20: 0.0177, NDCG@20: 0.0159\n",
      "Epoch 9/50, Train Loss: 0.7284, HR@20: 0.0094, Recall@20: 0.0177, NDCG@20: 0.0160\n",
      "Epoch 10/50, Train Loss: 0.7283, HR@20: 0.0094, Recall@20: 0.0177, NDCG@20: 0.0160\n",
      "Epoch 11/50, Train Loss: 0.7283, HR@20: 0.0094, Recall@20: 0.0177, NDCG@20: 0.0160\n",
      "Epoch 12/50, Train Loss: 0.7282, HR@20: 0.0094, Recall@20: 0.0177, NDCG@20: 0.0160\n",
      "Epoch 13/50, Train Loss: 0.7282, HR@20: 0.0095, Recall@20: 0.0177, NDCG@20: 0.0160\n",
      "Epoch 14/50, Train Loss: 0.7281, HR@20: 0.0095, Recall@20: 0.0177, NDCG@20: 0.0160\n",
      "Epoch 15/50, Train Loss: 0.7281, HR@20: 0.0095, Recall@20: 0.0177, NDCG@20: 0.0160\n",
      "Epoch 16/50, Train Loss: 0.7280, HR@20: 0.0095, Recall@20: 0.0178, NDCG@20: 0.0160\n",
      "Epoch 17/50, Train Loss: 0.7280, HR@20: 0.0095, Recall@20: 0.0178, NDCG@20: 0.0161\n",
      "Epoch 18/50, Train Loss: 0.7279, HR@20: 0.0095, Recall@20: 0.0178, NDCG@20: 0.0161\n",
      "Epoch 19/50, Train Loss: 0.7279, HR@20: 0.0095, Recall@20: 0.0178, NDCG@20: 0.0161\n",
      "Epoch 20/50, Train Loss: 0.7278, HR@20: 0.0095, Recall@20: 0.0178, NDCG@20: 0.0161\n",
      "Epoch 21/50, Train Loss: 0.7278, HR@20: 0.0095, Recall@20: 0.0178, NDCG@20: 0.0161\n",
      "Epoch 22/50, Train Loss: 0.7277, HR@20: 0.0095, Recall@20: 0.0179, NDCG@20: 0.0161\n",
      "Epoch 23/50, Train Loss: 0.7277, HR@20: 0.0095, Recall@20: 0.0179, NDCG@20: 0.0161\n",
      "Epoch 24/50, Train Loss: 0.7276, HR@20: 0.0095, Recall@20: 0.0179, NDCG@20: 0.0161\n",
      "Epoch 25/50, Train Loss: 0.7276, HR@20: 0.0095, Recall@20: 0.0179, NDCG@20: 0.0162\n",
      "Epoch 26/50, Train Loss: 0.7275, HR@20: 0.0095, Recall@20: 0.0179, NDCG@20: 0.0162\n",
      "Epoch 27/50, Train Loss: 0.7275, HR@20: 0.0095, Recall@20: 0.0179, NDCG@20: 0.0162\n",
      "Epoch 28/50, Train Loss: 0.7274, HR@20: 0.0095, Recall@20: 0.0179, NDCG@20: 0.0162\n",
      "Epoch 29/50, Train Loss: 0.7274, HR@20: 0.0095, Recall@20: 0.0179, NDCG@20: 0.0162\n",
      "Epoch 30/50, Train Loss: 0.7273, HR@20: 0.0095, Recall@20: 0.0179, NDCG@20: 0.0162\n",
      "Epoch 31/50, Train Loss: 0.7273, HR@20: 0.0095, Recall@20: 0.0179, NDCG@20: 0.0162\n",
      "Epoch 32/50, Train Loss: 0.7272, HR@20: 0.0096, Recall@20: 0.0179, NDCG@20: 0.0162\n",
      "Epoch 33/50, Train Loss: 0.7272, HR@20: 0.0096, Recall@20: 0.0179, NDCG@20: 0.0162\n",
      "Epoch 34/50, Train Loss: 0.7271, HR@20: 0.0096, Recall@20: 0.0180, NDCG@20: 0.0162\n",
      "Epoch 35/50, Train Loss: 0.7271, HR@20: 0.0096, Recall@20: 0.0180, NDCG@20: 0.0163\n",
      "Epoch 36/50, Train Loss: 0.7270, HR@20: 0.0096, Recall@20: 0.0180, NDCG@20: 0.0163\n",
      "Epoch 37/50, Train Loss: 0.7270, HR@20: 0.0096, Recall@20: 0.0180, NDCG@20: 0.0163\n",
      "Epoch 38/50, Train Loss: 0.7269, HR@20: 0.0096, Recall@20: 0.0181, NDCG@20: 0.0163\n",
      "Epoch 39/50, Train Loss: 0.7269, HR@20: 0.0096, Recall@20: 0.0181, NDCG@20: 0.0163\n",
      "Epoch 40/50, Train Loss: 0.7269, HR@20: 0.0096, Recall@20: 0.0181, NDCG@20: 0.0163\n",
      "Epoch 41/50, Train Loss: 0.7268, HR@20: 0.0096, Recall@20: 0.0181, NDCG@20: 0.0163\n",
      "Epoch 42/50, Train Loss: 0.7268, HR@20: 0.0096, Recall@20: 0.0181, NDCG@20: 0.0164\n",
      "Epoch 43/50, Train Loss: 0.7267, HR@20: 0.0096, Recall@20: 0.0181, NDCG@20: 0.0164\n",
      "Epoch 44/50, Train Loss: 0.7267, HR@20: 0.0096, Recall@20: 0.0182, NDCG@20: 0.0164\n",
      "Epoch 45/50, Train Loss: 0.7266, HR@20: 0.0096, Recall@20: 0.0182, NDCG@20: 0.0164\n",
      "Epoch 46/50, Train Loss: 0.7266, HR@20: 0.0096, Recall@20: 0.0182, NDCG@20: 0.0164\n",
      "Epoch 47/50, Train Loss: 0.7265, HR@20: 0.0096, Recall@20: 0.0182, NDCG@20: 0.0164\n",
      "Epoch 48/50, Train Loss: 0.7265, HR@20: 0.0096, Recall@20: 0.0182, NDCG@20: 0.0164\n",
      "Epoch 49/50, Train Loss: 0.7264, HR@20: 0.0096, Recall@20: 0.0182, NDCG@20: 0.0164\n",
      "Epoch 50/50, Train Loss: 0.7264, HR@20: 0.0096, Recall@20: 0.0182, NDCG@20: 0.0164\n",
      "Running time: 734.11s\n"
     ]
    }
   ],
   "source": [
    "# Setting the basic hyperparameters\n",
    "config['Contrastive_loss'] = True\n",
    "config['regularization'] = False\n",
    "\n",
    "student, prompt= prompt_MF_unlearning_eva(teacher, student, config, retain_data, forget_data, device)"
   ]
  },
  {
   "cell_type": "code",
   "execution_count": 13,
   "id": "df60f2a855409986",
   "metadata": {},
   "outputs": [
    {
     "name": "stdout",
     "output_type": "stream",
     "text": [
      "HR@20: 0.0042, Recall@20: 0.0219, NDCG@20: 0.0131\n"
     ]
    }
   ],
   "source": [
    "MF_forget_data_eva(student, prompt, forget_data, num_users, config['k'], config['batch_size'], device)"
   ]
  },
  {
   "cell_type": "code",
   "execution_count": null,
   "id": "1ba2b5725b8696a6",
   "metadata": {},
   "outputs": [],
   "source": [
    "# Setting the basic hyperparameters\n",
    "config['Contrastive_loss'] = True\n",
    "config['regularization'] = True\n",
    "\n",
    "student, prompt, epoch_tracks, test_topks = prompt_MF_unlearning_eva(teacher, student, config, retain_data, forget_data, device)"
   ]
  },
  {
   "cell_type": "code",
   "execution_count": null,
   "id": "4666c7b50368bfd6",
   "metadata": {},
   "outputs": [],
   "source": [
    "MF_forget_data_eva(student, prompt, forget_data, num_users, config['k'], config['batch_size'], device)"
   ]
  },
  {
   "cell_type": "code",
   "execution_count": null,
   "id": "aa93c978e05cf58a",
   "metadata": {},
   "outputs": [],
   "source": [
    "config['tuning_type'] = 'gpf-plus'\n",
    "config[\"number_p\"] = 10 # The number of prompts\n",
    "# Setting the basic hyperparameters\n",
    "config['contrastive_loss'] = True\n",
    "config['regularization'] = True\n",
    "\n",
    "student, prompt, epoch_tracks, test_topks = prompt_MF_unlearning_eva(teacher, student, config, retain_data, forget_data, device)"
   ]
  },
  {
   "cell_type": "code",
   "execution_count": null,
   "id": "21e83e6e24eac784",
   "metadata": {},
   "outputs": [],
   "source": [
    "MF_forget_data_eva(student, prompt, forget_data, num_users, config['k'], config['batch_size'], device)"
   ]
  }
 ],
 "metadata": {
  "kernelspec": {
   "display_name": "master",
   "language": "python",
   "name": "python3"
  },
  "language_info": {
   "codemirror_mode": {
    "name": "ipython",
    "version": 3
   },
   "file_extension": ".py",
   "mimetype": "text/x-python",
   "name": "python",
   "nbconvert_exporter": "python",
   "pygments_lexer": "ipython3",
   "version": "3.9.17"
  }
 },
 "nbformat": 4,
 "nbformat_minor": 5
}
