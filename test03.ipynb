{
 "cells": [
  {
   "cell_type": "code",
   "execution_count": 1,
   "id": "d01f872d45344f10",
   "metadata": {
    "ExecuteTime": {
     "end_time": "2024-09-20T10:43:04.041263Z",
     "start_time": "2024-09-20T10:43:01.871739Z"
    }
   },
   "outputs": [],
   "source": [
    "from model.LightGCN import *\n",
    "from preprocess.AmazonBook import *\n",
    "from evaluation.LightGCN_SISA import *\n",
    "pd.options.display.max_rows = 10\n",
    "device = torch.device('cuda' if torch.cuda.is_available() else 'cpu')\n",
    "path = './dataset/amazon-book'\n",
    "dataset = AmazonBook(path)\n",
    "\n",
    "data = dataset.get()\n",
    "num_users, num_books = dataset.getNumber()\n",
    "config = {\n",
    "    'k': 20,\n",
    "    'lr': 0.001,\n",
    "    'epochs': 1000,\n",
    "    'num_layers': 2,\n",
    "    'batch_size': 8192,\n",
    "    'embedding_dim': 64,\n",
    "    'num_users': num_users,\n",
    "    'num_books': num_books,\n",
    "    'tuning_type': None,\n",
    "}\n",
    "model = LightGCN(\n",
    "    num_nodes=data.num_nodes,\n",
    "    embedding_dim=config['embedding_dim'],\n",
    "    num_layers=config['num_layers'],\n",
    ").to(device)"
   ]
  },
  {
   "cell_type": "markdown",
   "id": "8729c9afb60c2004",
   "metadata": {},
   "source": [
    "# SISA Method"
   ]
  },
  {
   "cell_type": "code",
   "execution_count": 3,
   "id": "cb29ac771e04a011",
   "metadata": {
    "ExecuteTime": {
     "start_time": "2024-09-20T10:43:13.669754Z"
    },
    "jupyter": {
     "is_executing": true
    }
   },
   "outputs": [
    {
     "ename": "IndexError",
     "evalue": "too many indices for tensor of dimension 1",
     "output_type": "error",
     "traceback": [
      "\u001b[1;31m---------------------------------------------------------------------------\u001b[0m",
      "\u001b[1;31mIndexError\u001b[0m                                Traceback (most recent call last)",
      "Cell \u001b[1;32mIn[3], line 12\u001b[0m\n\u001b[0;32m      5\u001b[0m \u001b[38;5;28;01mfor\u001b[39;00m _ \u001b[38;5;129;01min\u001b[39;00m \u001b[38;5;28mrange\u001b[39m(config[\u001b[38;5;124m'\u001b[39m\u001b[38;5;124mnum_shards\u001b[39m\u001b[38;5;124m'\u001b[39m]):\n\u001b[0;32m      6\u001b[0m     model_list\u001b[38;5;241m.\u001b[39mappend(LightGCN(\n\u001b[0;32m      7\u001b[0m     num_nodes\u001b[38;5;241m=\u001b[39mdata\u001b[38;5;241m.\u001b[39mnum_nodes,\n\u001b[0;32m      8\u001b[0m     embedding_dim\u001b[38;5;241m=\u001b[39mconfig[\u001b[38;5;124m'\u001b[39m\u001b[38;5;124membedding_dim\u001b[39m\u001b[38;5;124m'\u001b[39m],\n\u001b[0;32m      9\u001b[0m     num_layers\u001b[38;5;241m=\u001b[39mconfig[\u001b[38;5;124m'\u001b[39m\u001b[38;5;124mnum_layers\u001b[39m\u001b[38;5;124m'\u001b[39m],\n\u001b[0;32m     10\u001b[0m )\u001b[38;5;241m.\u001b[39mto(device))\n\u001b[1;32m---> 12\u001b[0m shard_models, shards, epoch_tracks, test_topks \u001b[38;5;241m=\u001b[39m \u001b[43msisa_lightgcn_eva\u001b[49m\u001b[43m(\u001b[49m\u001b[43mmodel_list\u001b[49m\u001b[43m,\u001b[49m\u001b[43m \u001b[49m\u001b[43mconfig\u001b[49m\u001b[43m,\u001b[49m\u001b[43m \u001b[49m\u001b[43mdata\u001b[49m\u001b[43m,\u001b[49m\u001b[43m \u001b[49m\u001b[43mdevice\u001b[49m\u001b[43m)\u001b[49m\n",
      "File \u001b[1;32md:\\Programming\\Project\\promptGraph\\evaluation\\LightGCN_SISA.py:38\u001b[0m, in \u001b[0;36msisa_lightgcn_eva\u001b[1;34m(shard_models, config, data, device)\u001b[0m\n\u001b[0;32m     36\u001b[0m shard_loader \u001b[38;5;241m=\u001b[39m torch\u001b[38;5;241m.\u001b[39mutils\u001b[38;5;241m.\u001b[39mdata\u001b[38;5;241m.\u001b[39mDataLoader(shard_indices, batch_size\u001b[38;5;241m=\u001b[39mbatch_size, shuffle\u001b[38;5;241m=\u001b[39m\u001b[38;5;28;01mTrue\u001b[39;00m)\n\u001b[0;32m     37\u001b[0m \u001b[38;5;28;01mfor\u001b[39;00m index \u001b[38;5;129;01min\u001b[39;00m shard_loader:\n\u001b[1;32m---> 38\u001b[0m     pos_edge_label_index \u001b[38;5;241m=\u001b[39m \u001b[43mshard_indices\u001b[49m\u001b[43m[\u001b[49m\u001b[43m:\u001b[49m\u001b[43m,\u001b[49m\u001b[43m \u001b[49m\u001b[43mindex\u001b[49m\u001b[43m]\u001b[49m\n\u001b[0;32m     39\u001b[0m     neg_edge_label_index \u001b[38;5;241m=\u001b[39m torch\u001b[38;5;241m.\u001b[39mstack([\n\u001b[0;32m     40\u001b[0m         pos_edge_label_index[\u001b[38;5;241m0\u001b[39m],\n\u001b[0;32m     41\u001b[0m         torch\u001b[38;5;241m.\u001b[39mrandint(num_users, num_users \u001b[38;5;241m+\u001b[39m num_books, (index\u001b[38;5;241m.\u001b[39mnumel(),), device\u001b[38;5;241m=\u001b[39mdevice)\n\u001b[0;32m     42\u001b[0m     ], dim\u001b[38;5;241m=\u001b[39m\u001b[38;5;241m0\u001b[39m)\n\u001b[0;32m     43\u001b[0m     edge_label_index \u001b[38;5;241m=\u001b[39m torch\u001b[38;5;241m.\u001b[39mcat([pos_edge_label_index, neg_edge_label_index], dim\u001b[38;5;241m=\u001b[39m\u001b[38;5;241m1\u001b[39m)\n",
      "\u001b[1;31mIndexError\u001b[0m: too many indices for tensor of dimension 1"
     ]
    }
   ],
   "source": [
    "config['epochs'] = 100\n",
    "config['num_shards'] = 5\n",
    "model_list =[]\n",
    "\n",
    "for _ in range(config['num_shards']):\n",
    "    model_list.append(LightGCN(\n",
    "    num_nodes=data.num_nodes,\n",
    "    embedding_dim=config['embedding_dim'],\n",
    "    num_layers=config['num_layers'],\n",
    ").to(device))\n",
    "\n",
    "shard_models, shards, epoch_tracks, test_topks = sisa_lightgcn_eva(model_list, config, data, device)"
   ]
  },
  {
   "cell_type": "markdown",
   "id": "f7c2e3edb21a6ebc",
   "metadata": {},
   "source": [
    "# Splite The Dataset"
   ]
  },
  {
   "cell_type": "code",
   "execution_count": null,
   "id": "98ce4536ffd5be8e",
   "metadata": {
    "jupyter": {
     "is_executing": true
    }
   },
   "outputs": [],
   "source": [
    "# Basic setting\n",
    "num_edges = data.edge_index.size(1)\n",
    "perm = torch.randperm(num_edges)\n",
    "split = int(num_edges * 0.1)  # 10% of edges will be retained\n",
    "\n",
    "# Define the data for forget and retain dataset\n",
    "forget_data = Data()\n",
    "retain_data = Data()\n",
    "\n",
    "forget_data.num_nodes = data.num_nodes\n",
    "retain_data.num_nodes = data.num_nodes\n",
    "forget_data.edge_index = data.edge_index[:, perm[:split]]\n",
    "retain_data.edge_index = data.edge_index[:, perm[split:]]\n",
    "forget_data.edge_label_index = data.edge_label_index\n",
    "retain_data.edge_label_index = data.edge_label_index"
   ]
  },
  {
   "cell_type": "code",
   "execution_count": null,
   "id": "9a66f65accf2eb75",
   "metadata": {
    "jupyter": {
     "is_executing": true
    }
   },
   "outputs": [],
   "source": [
    "shard_models = sisa_lightgcn_unlearning_eva(shard_models, shards, retain_data, forget_data, config, device)"
   ]
  },
  {
   "cell_type": "code",
   "execution_count": null,
   "id": "f883e4178d63fa44",
   "metadata": {
    "jupyter": {
     "is_executing": true
    }
   },
   "outputs": [],
   "source": [
    "sisa_lightgcn_forget_data_eva(shard_models, forget_data, config, device)"
   ]
  },
  {
   "cell_type": "code",
   "execution_count": null,
   "id": "bb2a5542fcf05983",
   "metadata": {},
   "outputs": [],
   "source": []
  }
 ],
 "metadata": {
  "kernelspec": {
   "display_name": "master",
   "language": "python",
   "name": "python3"
  },
  "language_info": {
   "codemirror_mode": {
    "name": "ipython",
    "version": 3
   },
   "file_extension": ".py",
   "mimetype": "text/x-python",
   "name": "python",
   "nbconvert_exporter": "python",
   "pygments_lexer": "ipython3",
   "version": "3.9.17"
  }
 },
 "nbformat": 4,
 "nbformat_minor": 5
}
