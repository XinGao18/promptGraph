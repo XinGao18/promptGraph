{
 "cells": [
  {
   "cell_type": "code",
   "execution_count": 1,
   "id": "initial_id",
   "metadata": {
    "ExecuteTime": {
     "end_time": "2024-09-23T07:18:32.336957Z",
     "start_time": "2024-09-23T07:18:30.272820Z"
    },
    "collapsed": true
   },
   "outputs": [],
   "source": [
    "from model.BPRMF import *\n",
    "from preprocess.AmazonBook import *\n",
    "from evaluation.BPRMF_evaluation import *\n",
    "from evaluation.LightGCN_SISA import *\n",
    "pd.options.display.max_rows = 10\n",
    "device = torch.device('cuda' if torch.cuda.is_available() else 'cpu')\n",
    "path = './dataset/amazon-book'\n",
    "dataset = AmazonBook(path)\n",
    "\n",
    "data = dataset.get()\n",
    "num_users, num_books = dataset.getNumber()\n",
    "config = {\n",
    "    'k': 20,\n",
    "    'lr': 1e-4,\n",
    "    'epochs': 120,\n",
    "    'num_layers': 2,\n",
    "    'batch_size': 8192,\n",
    "    'embedding_dim': 64,\n",
    "    'num_users': num_users,\n",
    "    'num_books': num_books,\n",
    "    'tuning_type': None,\n",
    "}\n",
    "model = BPRMF(\n",
    "    num_users= config['num_users'],\n",
    "    num_items= config['num_books'],\n",
    "    embedding_dim = config['embedding_dim']\n",
    ").to(device)"
   ]
  },
  {
   "cell_type": "markdown",
   "id": "fc69047f9f665b92",
   "metadata": {},
   "source": [
    "# Split the dataset"
   ]
  },
  {
   "cell_type": "code",
   "execution_count": 2,
   "id": "dc245ca974675261",
   "metadata": {
    "ExecuteTime": {
     "end_time": "2024-09-23T07:18:33.615827Z",
     "start_time": "2024-09-23T07:18:33.555843Z"
    }
   },
   "outputs": [],
   "source": [
    "# Basic setting\n",
    "num_edges = data.edge_index.size(1)\n",
    "perm = torch.randperm(num_edges)\n",
    "split = int(num_edges * 0.1)  # 10% of edges will be retained\n",
    "\n",
    "# Define the data for forget and retain dataset\n",
    "forget_data = Data()\n",
    "retain_data = Data()\n",
    "\n",
    "forget_data.num_nodes = data.num_nodes\n",
    "retain_data.num_nodes = data.num_nodes\n",
    "forget_data.edge_index = data.edge_index[:, perm[:split]]\n",
    "retain_data.edge_index = data.edge_index[:, perm[split:]]\n",
    "forget_data.edge_label_index = data.edge_label_index\n",
    "retain_data.edge_label_index = data.edge_label_index"
   ]
  },
  {
   "cell_type": "markdown",
   "id": "f364bfd671d52171",
   "metadata": {},
   "source": [
    "# Retain BPRMF model"
   ]
  },
  {
   "cell_type": "code",
   "execution_count": 3,
   "id": "d58c2b953c921947",
   "metadata": {},
   "outputs": [
    {
     "name": "stdout",
     "output_type": "stream",
     "text": [
      "Epoch: 001, Loss: 0.6949, Precision@20: 0.0001, Recall@20: 0.0002, NDCG@20: 0.0002\n",
      "Epoch: 002, Loss: 0.6937, Precision@20: 0.0001, Recall@20: 0.0002, NDCG@20: 0.0002\n",
      "Epoch: 003, Loss: 0.6926, Precision@20: 0.0001, Recall@20: 0.0002, NDCG@20: 0.0002\n",
      "Epoch: 004, Loss: 0.6914, Precision@20: 0.0001, Recall@20: 0.0002, NDCG@20: 0.0002\n",
      "Epoch: 005, Loss: 0.6903, Precision@20: 0.0001, Recall@20: 0.0002, NDCG@20: 0.0002\n",
      "Epoch: 006, Loss: 0.6892, Precision@20: 0.0001, Recall@20: 0.0002, NDCG@20: 0.0002\n",
      "Epoch: 007, Loss: 0.6880, Precision@20: 0.0001, Recall@20: 0.0002, NDCG@20: 0.0002\n",
      "Epoch: 008, Loss: 0.6869, Precision@20: 0.0001, Recall@20: 0.0002, NDCG@20: 0.0002\n",
      "Epoch: 009, Loss: 0.6856, Precision@20: 0.0001, Recall@20: 0.0002, NDCG@20: 0.0002\n",
      "Epoch: 010, Loss: 0.6845, Precision@20: 0.0001, Recall@20: 0.0002, NDCG@20: 0.0002\n",
      "Epoch: 011, Loss: 0.6833, Precision@20: 0.0001, Recall@20: 0.0002, NDCG@20: 0.0002\n",
      "Epoch: 012, Loss: 0.6821, Precision@20: 0.0001, Recall@20: 0.0002, NDCG@20: 0.0002\n",
      "Epoch: 013, Loss: 0.6809, Precision@20: 0.0001, Recall@20: 0.0002, NDCG@20: 0.0002\n",
      "Epoch: 014, Loss: 0.6796, Precision@20: 0.0001, Recall@20: 0.0002, NDCG@20: 0.0002\n",
      "Epoch: 015, Loss: 0.6783, Precision@20: 0.0001, Recall@20: 0.0002, NDCG@20: 0.0002\n",
      "Epoch: 016, Loss: 0.6770, Precision@20: 0.0002, Recall@20: 0.0002, NDCG@20: 0.0002\n",
      "Epoch: 017, Loss: 0.6757, Precision@20: 0.0002, Recall@20: 0.0002, NDCG@20: 0.0002\n",
      "Epoch: 018, Loss: 0.6743, Precision@20: 0.0002, Recall@20: 0.0003, NDCG@20: 0.0002\n",
      "Epoch: 019, Loss: 0.6728, Precision@20: 0.0002, Recall@20: 0.0003, NDCG@20: 0.0003\n",
      "Epoch: 020, Loss: 0.6713, Precision@20: 0.0002, Recall@20: 0.0003, NDCG@20: 0.0003\n",
      "Epoch: 021, Loss: 0.6698, Precision@20: 0.0002, Recall@20: 0.0003, NDCG@20: 0.0003\n",
      "Epoch: 022, Loss: 0.6681, Precision@20: 0.0002, Recall@20: 0.0003, NDCG@20: 0.0003\n",
      "Epoch: 023, Loss: 0.6664, Precision@20: 0.0002, Recall@20: 0.0004, NDCG@20: 0.0003\n",
      "Epoch: 024, Loss: 0.6646, Precision@20: 0.0002, Recall@20: 0.0004, NDCG@20: 0.0004\n",
      "Epoch: 025, Loss: 0.6627, Precision@20: 0.0003, Recall@20: 0.0005, NDCG@20: 0.0004\n",
      "Epoch: 026, Loss: 0.6606, Precision@20: 0.0003, Recall@20: 0.0005, NDCG@20: 0.0005\n",
      "Epoch: 027, Loss: 0.6585, Precision@20: 0.0004, Recall@20: 0.0006, NDCG@20: 0.0006\n",
      "Epoch: 028, Loss: 0.6562, Precision@20: 0.0005, Recall@20: 0.0008, NDCG@20: 0.0007\n",
      "Epoch: 029, Loss: 0.6537, Precision@20: 0.0006, Recall@20: 0.0010, NDCG@20: 0.0009\n",
      "Epoch: 030, Loss: 0.6510, Precision@20: 0.0007, Recall@20: 0.0012, NDCG@20: 0.0011\n",
      "Epoch: 031, Loss: 0.6481, Precision@20: 0.0008, Recall@20: 0.0014, NDCG@20: 0.0013\n",
      "Epoch: 032, Loss: 0.6452, Precision@20: 0.0009, Recall@20: 0.0016, NDCG@20: 0.0015\n",
      "Epoch: 033, Loss: 0.6419, Precision@20: 0.0011, Recall@20: 0.0018, NDCG@20: 0.0017\n",
      "Epoch: 034, Loss: 0.6383, Precision@20: 0.0012, Recall@20: 0.0021, NDCG@20: 0.0019\n",
      "Epoch: 035, Loss: 0.6346, Precision@20: 0.0013, Recall@20: 0.0023, NDCG@20: 0.0021\n",
      "Epoch: 036, Loss: 0.6306, Precision@20: 0.0015, Recall@20: 0.0026, NDCG@20: 0.0023\n",
      "Epoch: 037, Loss: 0.6263, Precision@20: 0.0016, Recall@20: 0.0029, NDCG@20: 0.0026\n",
      "Epoch: 038, Loss: 0.6218, Precision@20: 0.0018, Recall@20: 0.0032, NDCG@20: 0.0028\n",
      "Epoch: 039, Loss: 0.6170, Precision@20: 0.0019, Recall@20: 0.0034, NDCG@20: 0.0031\n",
      "Epoch: 040, Loss: 0.6118, Precision@20: 0.0021, Recall@20: 0.0037, NDCG@20: 0.0033\n",
      "Epoch: 041, Loss: 0.6065, Precision@20: 0.0023, Recall@20: 0.0040, NDCG@20: 0.0036\n",
      "Epoch: 042, Loss: 0.6009, Precision@20: 0.0024, Recall@20: 0.0043, NDCG@20: 0.0038\n",
      "Epoch: 043, Loss: 0.5951, Precision@20: 0.0025, Recall@20: 0.0045, NDCG@20: 0.0040\n",
      "Epoch: 044, Loss: 0.5890, Precision@20: 0.0027, Recall@20: 0.0047, NDCG@20: 0.0042\n",
      "Epoch: 045, Loss: 0.5827, Precision@20: 0.0028, Recall@20: 0.0050, NDCG@20: 0.0045\n",
      "Epoch: 046, Loss: 0.5762, Precision@20: 0.0030, Recall@20: 0.0053, NDCG@20: 0.0047\n",
      "Epoch: 047, Loss: 0.5695, Precision@20: 0.0031, Recall@20: 0.0056, NDCG@20: 0.0049\n",
      "Epoch: 048, Loss: 0.5626, Precision@20: 0.0032, Recall@20: 0.0058, NDCG@20: 0.0051\n",
      "Epoch: 049, Loss: 0.5555, Precision@20: 0.0034, Recall@20: 0.0061, NDCG@20: 0.0054\n",
      "Epoch: 050, Loss: 0.5483, Precision@20: 0.0035, Recall@20: 0.0064, NDCG@20: 0.0056\n",
      "Epoch: 051, Loss: 0.5410, Precision@20: 0.0036, Recall@20: 0.0067, NDCG@20: 0.0058\n",
      "Epoch: 052, Loss: 0.5335, Precision@20: 0.0038, Recall@20: 0.0069, NDCG@20: 0.0060\n",
      "Epoch: 053, Loss: 0.5258, Precision@20: 0.0039, Recall@20: 0.0072, NDCG@20: 0.0062\n",
      "Epoch: 054, Loss: 0.5180, Precision@20: 0.0040, Recall@20: 0.0074, NDCG@20: 0.0065\n",
      "Epoch: 055, Loss: 0.5102, Precision@20: 0.0041, Recall@20: 0.0077, NDCG@20: 0.0067\n",
      "Epoch: 056, Loss: 0.5023, Precision@20: 0.0042, Recall@20: 0.0079, NDCG@20: 0.0069\n",
      "Epoch: 057, Loss: 0.4944, Precision@20: 0.0043, Recall@20: 0.0081, NDCG@20: 0.0070\n",
      "Epoch: 058, Loss: 0.4864, Precision@20: 0.0044, Recall@20: 0.0083, NDCG@20: 0.0072\n",
      "Epoch: 059, Loss: 0.4783, Precision@20: 0.0045, Recall@20: 0.0085, NDCG@20: 0.0074\n",
      "Epoch: 060, Loss: 0.4705, Precision@20: 0.0046, Recall@20: 0.0088, NDCG@20: 0.0076\n",
      "Epoch: 061, Loss: 0.4623, Precision@20: 0.0047, Recall@20: 0.0091, NDCG@20: 0.0078\n",
      "Epoch: 062, Loss: 0.4544, Precision@20: 0.0048, Recall@20: 0.0093, NDCG@20: 0.0080\n",
      "Epoch: 063, Loss: 0.4462, Precision@20: 0.0049, Recall@20: 0.0095, NDCG@20: 0.0081\n",
      "Epoch: 064, Loss: 0.4382, Precision@20: 0.0050, Recall@20: 0.0097, NDCG@20: 0.0083\n",
      "Epoch: 065, Loss: 0.4304, Precision@20: 0.0051, Recall@20: 0.0099, NDCG@20: 0.0085\n",
      "Epoch: 066, Loss: 0.4225, Precision@20: 0.0051, Recall@20: 0.0102, NDCG@20: 0.0086\n",
      "Epoch: 067, Loss: 0.4147, Precision@20: 0.0052, Recall@20: 0.0104, NDCG@20: 0.0088\n",
      "Epoch: 068, Loss: 0.4068, Precision@20: 0.0053, Recall@20: 0.0106, NDCG@20: 0.0089\n",
      "Epoch: 069, Loss: 0.3992, Precision@20: 0.0054, Recall@20: 0.0108, NDCG@20: 0.0091\n",
      "Epoch: 070, Loss: 0.3917, Precision@20: 0.0055, Recall@20: 0.0109, NDCG@20: 0.0093\n",
      "Epoch: 071, Loss: 0.3844, Precision@20: 0.0056, Recall@20: 0.0112, NDCG@20: 0.0094\n",
      "Epoch: 072, Loss: 0.3769, Precision@20: 0.0056, Recall@20: 0.0114, NDCG@20: 0.0096\n",
      "Epoch: 073, Loss: 0.3696, Precision@20: 0.0057, Recall@20: 0.0116, NDCG@20: 0.0097\n",
      "Epoch: 074, Loss: 0.3626, Precision@20: 0.0058, Recall@20: 0.0118, NDCG@20: 0.0099\n",
      "Epoch: 075, Loss: 0.3556, Precision@20: 0.0059, Recall@20: 0.0120, NDCG@20: 0.0100\n",
      "Epoch: 076, Loss: 0.3490, Precision@20: 0.0060, Recall@20: 0.0122, NDCG@20: 0.0102\n",
      "Epoch: 077, Loss: 0.3418, Precision@20: 0.0060, Recall@20: 0.0124, NDCG@20: 0.0103\n",
      "Epoch: 078, Loss: 0.3354, Precision@20: 0.0061, Recall@20: 0.0126, NDCG@20: 0.0105\n",
      "Epoch: 079, Loss: 0.3289, Precision@20: 0.0062, Recall@20: 0.0128, NDCG@20: 0.0106\n",
      "Epoch: 080, Loss: 0.3223, Precision@20: 0.0063, Recall@20: 0.0130, NDCG@20: 0.0107\n",
      "Epoch: 081, Loss: 0.3163, Precision@20: 0.0063, Recall@20: 0.0132, NDCG@20: 0.0109\n",
      "Epoch: 082, Loss: 0.3101, Precision@20: 0.0064, Recall@20: 0.0132, NDCG@20: 0.0109\n",
      "Epoch: 083, Loss: 0.3042, Precision@20: 0.0065, Recall@20: 0.0135, NDCG@20: 0.0111\n",
      "Epoch: 084, Loss: 0.2984, Precision@20: 0.0065, Recall@20: 0.0136, NDCG@20: 0.0112\n",
      "Epoch: 085, Loss: 0.2929, Precision@20: 0.0066, Recall@20: 0.0137, NDCG@20: 0.0113\n",
      "Epoch: 086, Loss: 0.2873, Precision@20: 0.0067, Recall@20: 0.0140, NDCG@20: 0.0115\n",
      "Epoch: 087, Loss: 0.2817, Precision@20: 0.0067, Recall@20: 0.0142, NDCG@20: 0.0116\n",
      "Epoch: 088, Loss: 0.2762, Precision@20: 0.0068, Recall@20: 0.0143, NDCG@20: 0.0117\n",
      "Epoch: 089, Loss: 0.2713, Precision@20: 0.0068, Recall@20: 0.0144, NDCG@20: 0.0118\n",
      "Epoch: 090, Loss: 0.2662, Precision@20: 0.0069, Recall@20: 0.0146, NDCG@20: 0.0119\n",
      "Epoch: 091, Loss: 0.2613, Precision@20: 0.0070, Recall@20: 0.0147, NDCG@20: 0.0120\n",
      "Epoch: 092, Loss: 0.2564, Precision@20: 0.0070, Recall@20: 0.0149, NDCG@20: 0.0121\n",
      "Epoch: 093, Loss: 0.2518, Precision@20: 0.0071, Recall@20: 0.0150, NDCG@20: 0.0122\n",
      "Epoch: 094, Loss: 0.2471, Precision@20: 0.0071, Recall@20: 0.0151, NDCG@20: 0.0123\n",
      "Epoch: 095, Loss: 0.2426, Precision@20: 0.0072, Recall@20: 0.0152, NDCG@20: 0.0124\n",
      "Epoch: 096, Loss: 0.2383, Precision@20: 0.0072, Recall@20: 0.0155, NDCG@20: 0.0125\n",
      "Epoch: 097, Loss: 0.2341, Precision@20: 0.0073, Recall@20: 0.0156, NDCG@20: 0.0126\n",
      "Epoch: 098, Loss: 0.2299, Precision@20: 0.0073, Recall@20: 0.0157, NDCG@20: 0.0127\n",
      "Epoch: 099, Loss: 0.2257, Precision@20: 0.0074, Recall@20: 0.0158, NDCG@20: 0.0128\n",
      "Epoch: 100, Loss: 0.2219, Precision@20: 0.0074, Recall@20: 0.0159, NDCG@20: 0.0128\n",
      "Epoch: 101, Loss: 0.2180, Precision@20: 0.0074, Recall@20: 0.0160, NDCG@20: 0.0129\n",
      "Epoch: 102, Loss: 0.2142, Precision@20: 0.0075, Recall@20: 0.0161, NDCG@20: 0.0130\n",
      "Epoch: 103, Loss: 0.2104, Precision@20: 0.0076, Recall@20: 0.0163, NDCG@20: 0.0131\n",
      "Epoch: 104, Loss: 0.2069, Precision@20: 0.0076, Recall@20: 0.0164, NDCG@20: 0.0132\n",
      "Epoch: 105, Loss: 0.2037, Precision@20: 0.0076, Recall@20: 0.0165, NDCG@20: 0.0133\n",
      "Epoch: 106, Loss: 0.2000, Precision@20: 0.0077, Recall@20: 0.0166, NDCG@20: 0.0133\n",
      "Epoch: 107, Loss: 0.1968, Precision@20: 0.0077, Recall@20: 0.0167, NDCG@20: 0.0134\n",
      "Epoch: 108, Loss: 0.1936, Precision@20: 0.0078, Recall@20: 0.0169, NDCG@20: 0.0135\n",
      "Epoch: 109, Loss: 0.1905, Precision@20: 0.0079, Recall@20: 0.0171, NDCG@20: 0.0136\n",
      "Epoch: 110, Loss: 0.1871, Precision@20: 0.0079, Recall@20: 0.0172, NDCG@20: 0.0137\n",
      "Epoch: 111, Loss: 0.1841, Precision@20: 0.0080, Recall@20: 0.0173, NDCG@20: 0.0138\n",
      "Epoch: 112, Loss: 0.1811, Precision@20: 0.0080, Recall@20: 0.0174, NDCG@20: 0.0139\n",
      "Epoch: 113, Loss: 0.1781, Precision@20: 0.0081, Recall@20: 0.0175, NDCG@20: 0.0139\n",
      "Epoch: 114, Loss: 0.1755, Precision@20: 0.0081, Recall@20: 0.0176, NDCG@20: 0.0140\n",
      "Epoch: 115, Loss: 0.1730, Precision@20: 0.0081, Recall@20: 0.0177, NDCG@20: 0.0141\n",
      "Epoch: 116, Loss: 0.1700, Precision@20: 0.0082, Recall@20: 0.0178, NDCG@20: 0.0142\n",
      "Epoch: 117, Loss: 0.1674, Precision@20: 0.0082, Recall@20: 0.0179, NDCG@20: 0.0142\n",
      "Epoch: 118, Loss: 0.1649, Precision@20: 0.0082, Recall@20: 0.0180, NDCG@20: 0.0143\n",
      "Epoch: 119, Loss: 0.1626, Precision@20: 0.0083, Recall@20: 0.0180, NDCG@20: 0.0143\n",
      "Epoch: 120, Loss: 0.1601, Precision@20: 0.0083, Recall@20: 0.0181, NDCG@20: 0.0144\n",
      "Total time: 4255.031267642975\n"
     ]
    }
   ],
   "source": [
    "config['epochs'] = 120\n",
    "retrain_lightgcn = BPRMF(\n",
    "    num_users= config['num_users'],\n",
    "    num_items= config['num_books'],\n",
    "    embedding_dim = config['embedding_dim']\n",
    ").to(device)\n",
    "retrain_lightgcn, epoch_tracks, test_topks = BPRMF_eva(retrain_lightgcn, config, retain_data, device)"
   ]
  },
  {
   "cell_type": "code",
   "execution_count": 4,
   "id": "a885656fc2eb338d",
   "metadata": {},
   "outputs": [
    {
     "name": "stdout",
     "output_type": "stream",
     "text": [
      "HR@20: 0.0075, Recall@20: 0.0373, NDCG@20: 0.0207\n"
     ]
    }
   ],
   "source": [
    "# Test on the forget data\n",
    "BPRMF_forget_data_eva(retrain_lightgcn, None, forget_data, config['num_users'], config['k'], config['batch_size'], device)"
   ]
  },
  {
   "cell_type": "markdown",
   "id": "90f4a122a147a957",
   "metadata": {},
   "source": [
    "# Prompt Unlearning\n",
    "## Case 1: Without Contrastive Loss and Regularization"
   ]
  },
  {
   "cell_type": "code",
   "execution_count": 5,
   "id": "31b8ec0436dc6bd2",
   "metadata": {
    "ExecuteTime": {
     "end_time": "2024-09-23T07:18:38.132388Z",
     "start_time": "2024-09-23T07:18:37.357027Z"
    }
   },
   "outputs": [
    {
     "data": {
      "text/plain": [
       "<All keys matched successfully>"
      ]
     },
     "execution_count": 5,
     "metadata": {},
     "output_type": "execute_result"
    }
   ],
   "source": [
    "# Define the model\n",
    "teacher = BPRMF(\n",
    "    num_users= config['num_users'],\n",
    "    num_items= config['num_books'],\n",
    "    embedding_dim = config['embedding_dim']\n",
    ").to(device)\n",
    "student = BPRMF(\n",
    "    num_users= config['num_users'],\n",
    "    num_items= config['num_books'],\n",
    "    embedding_dim = config['embedding_dim']\n",
    ").to(device)\n",
    "\n",
    "# Load the model\n",
    "teacher.load_state_dict(torch.load(f\"BPRMF_Amazon_Book_{config['epochs']}_Epochs_Top_{config['k']}.pt\"))\n",
    "student.load_state_dict(torch.load(f\"BPRMF_Amazon_Book_{config['epochs']}_Epochs_Top_{config['k']}.pt\"))"
   ]
  },
  {
   "cell_type": "code",
   "execution_count": 7,
   "id": "27fb146638217915",
   "metadata": {
    "ExecuteTime": {
     "end_time": "2024-09-23T07:32:11.453882Z",
     "start_time": "2024-09-23T07:25:56.216473Z"
    }
   },
   "outputs": [
    {
     "name": "stderr",
     "output_type": "stream",
     "text": [
      "c:\\Users\\MSI\\.conda\\envs\\master\\lib\\site-packages\\torch_geometric\\data\\storage.py:450: UserWarning: Unable to accurately infer 'num_nodes' from the attribute set '{'x', 'edge_label_index', 'edge_index'}'. Please explicitly set 'num_nodes' as an attribute of 'data' to suppress this warning\n",
      "  warnings.warn(\n"
     ]
    },
    {
     "name": "stdout",
     "output_type": "stream",
     "text": [
      "Epoch: 001, Loss: 0.3679, HR@20: 0.0084, Recall@20: 0.0185, NDCG@20: 0.0143\n",
      "Epoch: 002, Loss: 0.3688, HR@20: 0.0084, Recall@20: 0.0185, NDCG@20: 0.0143\n",
      "Epoch: 003, Loss: 0.3683, HR@20: 0.0084, Recall@20: 0.0185, NDCG@20: 0.0143\n",
      "Epoch: 004, Loss: 0.3574, HR@20: 0.0083, Recall@20: 0.0184, NDCG@20: 0.0142\n",
      "Epoch: 005, Loss: 0.3292, HR@20: 0.0083, Recall@20: 0.0184, NDCG@20: 0.0142\n",
      "Epoch: 006, Loss: 0.3364, HR@20: 0.0083, Recall@20: 0.0183, NDCG@20: 0.0142\n",
      "Epoch: 007, Loss: 0.3279, HR@20: 0.0083, Recall@20: 0.0183, NDCG@20: 0.0141\n",
      "Epoch: 008, Loss: 0.3268, HR@20: 0.0083, Recall@20: 0.0182, NDCG@20: 0.0141\n",
      "Epoch: 009, Loss: 0.3124, HR@20: 0.0083, Recall@20: 0.0182, NDCG@20: 0.0141\n",
      "Epoch: 010, Loss: 0.3132, HR@20: 0.0083, Recall@20: 0.0182, NDCG@20: 0.0141\n",
      "Epoch: 011, Loss: 0.3168, HR@20: 0.0083, Recall@20: 0.0181, NDCG@20: 0.0140\n",
      "Epoch: 012, Loss: 0.3045, HR@20: 0.0083, Recall@20: 0.0181, NDCG@20: 0.0140\n",
      "Epoch: 013, Loss: 0.3093, HR@20: 0.0082, Recall@20: 0.0181, NDCG@20: 0.0140\n",
      "Epoch: 014, Loss: 0.2967, HR@20: 0.0082, Recall@20: 0.0180, NDCG@20: 0.0140\n",
      "Epoch: 015, Loss: 0.2959, HR@20: 0.0082, Recall@20: 0.0180, NDCG@20: 0.0140\n",
      "Epoch: 016, Loss: 0.2871, HR@20: 0.0082, Recall@20: 0.0180, NDCG@20: 0.0140\n",
      "Epoch: 017, Loss: 0.2783, HR@20: 0.0082, Recall@20: 0.0179, NDCG@20: 0.0139\n",
      "Epoch: 018, Loss: 0.2853, HR@20: 0.0082, Recall@20: 0.0178, NDCG@20: 0.0139\n",
      "Epoch: 019, Loss: 0.2775, HR@20: 0.0081, Recall@20: 0.0178, NDCG@20: 0.0139\n",
      "Epoch: 020, Loss: 0.2839, HR@20: 0.0081, Recall@20: 0.0178, NDCG@20: 0.0138\n",
      "Epoch: 021, Loss: 0.2799, HR@20: 0.0081, Recall@20: 0.0177, NDCG@20: 0.0138\n",
      "Epoch: 022, Loss: 0.2722, HR@20: 0.0081, Recall@20: 0.0177, NDCG@20: 0.0138\n",
      "Epoch: 023, Loss: 0.2738, HR@20: 0.0081, Recall@20: 0.0177, NDCG@20: 0.0138\n",
      "Epoch: 024, Loss: 0.2734, HR@20: 0.0081, Recall@20: 0.0177, NDCG@20: 0.0138\n",
      "Epoch: 025, Loss: 0.2770, HR@20: 0.0081, Recall@20: 0.0176, NDCG@20: 0.0138\n",
      "Epoch: 026, Loss: 0.2811, HR@20: 0.0081, Recall@20: 0.0176, NDCG@20: 0.0137\n",
      "Epoch: 027, Loss: 0.2662, HR@20: 0.0081, Recall@20: 0.0176, NDCG@20: 0.0137\n",
      "Epoch: 028, Loss: 0.2728, HR@20: 0.0080, Recall@20: 0.0176, NDCG@20: 0.0137\n",
      "Epoch: 029, Loss: 0.2698, HR@20: 0.0080, Recall@20: 0.0176, NDCG@20: 0.0137\n",
      "Epoch: 030, Loss: 0.2615, HR@20: 0.0080, Recall@20: 0.0176, NDCG@20: 0.0137\n",
      "Epoch: 031, Loss: 0.2681, HR@20: 0.0080, Recall@20: 0.0176, NDCG@20: 0.0137\n",
      "Epoch: 032, Loss: 0.2584, HR@20: 0.0080, Recall@20: 0.0175, NDCG@20: 0.0136\n",
      "Epoch: 033, Loss: 0.2551, HR@20: 0.0080, Recall@20: 0.0175, NDCG@20: 0.0136\n",
      "Epoch: 034, Loss: 0.2609, HR@20: 0.0080, Recall@20: 0.0174, NDCG@20: 0.0136\n",
      "Epoch: 035, Loss: 0.2725, HR@20: 0.0080, Recall@20: 0.0174, NDCG@20: 0.0136\n",
      "Epoch: 036, Loss: 0.2660, HR@20: 0.0080, Recall@20: 0.0174, NDCG@20: 0.0136\n",
      "Epoch: 037, Loss: 0.2704, HR@20: 0.0080, Recall@20: 0.0174, NDCG@20: 0.0136\n",
      "Epoch: 038, Loss: 0.2586, HR@20: 0.0080, Recall@20: 0.0173, NDCG@20: 0.0136\n",
      "Epoch: 039, Loss: 0.2451, HR@20: 0.0080, Recall@20: 0.0173, NDCG@20: 0.0135\n",
      "Epoch: 040, Loss: 0.2506, HR@20: 0.0079, Recall@20: 0.0173, NDCG@20: 0.0135\n",
      "Epoch: 041, Loss: 0.2548, HR@20: 0.0079, Recall@20: 0.0173, NDCG@20: 0.0135\n",
      "Epoch: 042, Loss: 0.2573, HR@20: 0.0079, Recall@20: 0.0173, NDCG@20: 0.0135\n",
      "Epoch: 043, Loss: 0.2533, HR@20: 0.0079, Recall@20: 0.0172, NDCG@20: 0.0135\n",
      "Epoch: 044, Loss: 0.2641, HR@20: 0.0079, Recall@20: 0.0172, NDCG@20: 0.0135\n",
      "Epoch: 045, Loss: 0.2541, HR@20: 0.0079, Recall@20: 0.0172, NDCG@20: 0.0135\n",
      "Epoch: 046, Loss: 0.2497, HR@20: 0.0079, Recall@20: 0.0172, NDCG@20: 0.0134\n",
      "Epoch: 047, Loss: 0.2574, HR@20: 0.0079, Recall@20: 0.0172, NDCG@20: 0.0134\n",
      "Epoch: 048, Loss: 0.2534, HR@20: 0.0079, Recall@20: 0.0172, NDCG@20: 0.0134\n",
      "Epoch: 049, Loss: 0.2450, HR@20: 0.0079, Recall@20: 0.0171, NDCG@20: 0.0134\n",
      "Epoch: 050, Loss: 0.2538, HR@20: 0.0079, Recall@20: 0.0171, NDCG@20: 0.0134\n",
      "Running time: 2229.38s\n"
     ]
    }
   ],
   "source": [
    "# Setting the basic hyperparameters\n",
    "config['beta'] = 0.6\n",
    "config['alpha'] = 0.4\n",
    "config['epochs'] = 50\n",
    "config['gamma'] = 1e-6 # contrastive loss\n",
    "config['delta'] = 1e-2 # regularization loss\n",
    "config['tuning_type'] = 'gpf'\n",
    "config['weight_decay'] = 0.001\n",
    "config['regularization'] = False\n",
    "config['Contrastive_loss'] = False\n",
    "student, prompt, epoch_tracks, test_topks = prompt_BPRMF_unlearning_eva(teacher, student, retain_data, forget_data, config, device)"
   ]
  },
  {
   "cell_type": "code",
   "execution_count": 8,
   "id": "62cc789ddf1a1d17",
   "metadata": {
    "ExecuteTime": {
     "end_time": "2024-09-23T07:32:17.608518Z",
     "start_time": "2024-09-23T07:32:11.453882Z"
    }
   },
   "outputs": [
    {
     "name": "stdout",
     "output_type": "stream",
     "text": [
      "HR@20: 0.0128, Recall@20: 0.0684, NDCG@20: 0.0398\n"
     ]
    }
   ],
   "source": [
    "# Test on the forget data\n",
    "BPRMF_forget_data_eva(student, prompt, forget_data, config['num_users'], config['k'], config['batch_size'], device)"
   ]
  },
  {
   "cell_type": "code",
   "execution_count": 9,
   "id": "082dadc3",
   "metadata": {},
   "outputs": [
    {
     "name": "stderr",
     "output_type": "stream",
     "text": [
      "c:\\Users\\MSI\\.conda\\envs\\master\\lib\\site-packages\\torch_geometric\\data\\storage.py:450: UserWarning: Unable to accurately infer 'num_nodes' from the attribute set '{'x', 'edge_label_index', 'edge_index'}'. Please explicitly set 'num_nodes' as an attribute of 'data' to suppress this warning\n",
      "  warnings.warn(\n"
     ]
    },
    {
     "name": "stdout",
     "output_type": "stream",
     "text": [
      "Epoch: 001, Loss: 0.6002, HR@20: 0.0079, Recall@20: 0.0173, NDCG@20: 0.0136\n",
      "Epoch: 002, Loss: 0.5944, HR@20: 0.0079, Recall@20: 0.0173, NDCG@20: 0.0136\n",
      "Epoch: 003, Loss: 0.6000, HR@20: 0.0079, Recall@20: 0.0174, NDCG@20: 0.0136\n",
      "Epoch: 004, Loss: 0.5936, HR@20: 0.0079, Recall@20: 0.0174, NDCG@20: 0.0137\n",
      "Epoch: 005, Loss: 0.5973, HR@20: 0.0080, Recall@20: 0.0174, NDCG@20: 0.0137\n",
      "Epoch: 006, Loss: 0.5829, HR@20: 0.0080, Recall@20: 0.0175, NDCG@20: 0.0137\n",
      "Epoch: 007, Loss: 0.5908, HR@20: 0.0080, Recall@20: 0.0175, NDCG@20: 0.0137\n",
      "Epoch: 008, Loss: 0.5888, HR@20: 0.0080, Recall@20: 0.0175, NDCG@20: 0.0138\n",
      "Epoch: 009, Loss: 0.5833, HR@20: 0.0080, Recall@20: 0.0176, NDCG@20: 0.0138\n",
      "Epoch: 010, Loss: 0.5856, HR@20: 0.0080, Recall@20: 0.0176, NDCG@20: 0.0138\n",
      "Epoch: 011, Loss: 0.5724, HR@20: 0.0080, Recall@20: 0.0176, NDCG@20: 0.0138\n",
      "Epoch: 012, Loss: 0.5779, HR@20: 0.0080, Recall@20: 0.0176, NDCG@20: 0.0138\n",
      "Epoch: 013, Loss: 0.5765, HR@20: 0.0081, Recall@20: 0.0177, NDCG@20: 0.0139\n",
      "Epoch: 014, Loss: 0.5806, HR@20: 0.0081, Recall@20: 0.0177, NDCG@20: 0.0139\n",
      "Epoch: 015, Loss: 0.5676, HR@20: 0.0081, Recall@20: 0.0177, NDCG@20: 0.0139\n",
      "Epoch: 016, Loss: 0.5697, HR@20: 0.0081, Recall@20: 0.0178, NDCG@20: 0.0139\n",
      "Epoch: 017, Loss: 0.5721, HR@20: 0.0081, Recall@20: 0.0178, NDCG@20: 0.0140\n",
      "Epoch: 018, Loss: 0.5663, HR@20: 0.0081, Recall@20: 0.0178, NDCG@20: 0.0140\n",
      "Epoch: 019, Loss: 0.5606, HR@20: 0.0081, Recall@20: 0.0178, NDCG@20: 0.0140\n",
      "Epoch: 020, Loss: 0.5683, HR@20: 0.0081, Recall@20: 0.0178, NDCG@20: 0.0140\n",
      "Epoch: 021, Loss: 0.5582, HR@20: 0.0081, Recall@20: 0.0178, NDCG@20: 0.0140\n",
      "Epoch: 022, Loss: 0.5390, HR@20: 0.0081, Recall@20: 0.0179, NDCG@20: 0.0140\n",
      "Epoch: 023, Loss: 0.5536, HR@20: 0.0081, Recall@20: 0.0179, NDCG@20: 0.0141\n",
      "Epoch: 024, Loss: 0.5589, HR@20: 0.0081, Recall@20: 0.0179, NDCG@20: 0.0141\n",
      "Epoch: 025, Loss: 0.5428, HR@20: 0.0082, Recall@20: 0.0179, NDCG@20: 0.0141\n",
      "Epoch: 026, Loss: 0.5461, HR@20: 0.0082, Recall@20: 0.0180, NDCG@20: 0.0141\n",
      "Epoch: 027, Loss: 0.5546, HR@20: 0.0082, Recall@20: 0.0180, NDCG@20: 0.0141\n",
      "Epoch: 028, Loss: 0.5436, HR@20: 0.0082, Recall@20: 0.0179, NDCG@20: 0.0141\n",
      "Epoch: 029, Loss: 0.5316, HR@20: 0.0082, Recall@20: 0.0180, NDCG@20: 0.0141\n",
      "Epoch: 030, Loss: 0.5470, HR@20: 0.0082, Recall@20: 0.0180, NDCG@20: 0.0142\n",
      "Epoch: 031, Loss: 0.5298, HR@20: 0.0082, Recall@20: 0.0180, NDCG@20: 0.0142\n",
      "Epoch: 032, Loss: 0.5407, HR@20: 0.0082, Recall@20: 0.0180, NDCG@20: 0.0142\n",
      "Epoch: 033, Loss: 0.5356, HR@20: 0.0082, Recall@20: 0.0181, NDCG@20: 0.0142\n",
      "Epoch: 034, Loss: 0.5363, HR@20: 0.0082, Recall@20: 0.0180, NDCG@20: 0.0142\n",
      "Epoch: 035, Loss: 0.5326, HR@20: 0.0082, Recall@20: 0.0181, NDCG@20: 0.0142\n",
      "Epoch: 036, Loss: 0.5471, HR@20: 0.0082, Recall@20: 0.0181, NDCG@20: 0.0142\n",
      "Epoch: 037, Loss: 0.5246, HR@20: 0.0082, Recall@20: 0.0181, NDCG@20: 0.0143\n",
      "Epoch: 038, Loss: 0.5325, HR@20: 0.0083, Recall@20: 0.0181, NDCG@20: 0.0143\n",
      "Epoch: 039, Loss: 0.5251, HR@20: 0.0083, Recall@20: 0.0182, NDCG@20: 0.0143\n",
      "Epoch: 040, Loss: 0.5246, HR@20: 0.0083, Recall@20: 0.0182, NDCG@20: 0.0143\n",
      "Epoch: 041, Loss: 0.5283, HR@20: 0.0083, Recall@20: 0.0182, NDCG@20: 0.0143\n",
      "Epoch: 042, Loss: 0.5261, HR@20: 0.0083, Recall@20: 0.0182, NDCG@20: 0.0143\n",
      "Epoch: 043, Loss: 0.5174, HR@20: 0.0083, Recall@20: 0.0182, NDCG@20: 0.0143\n",
      "Epoch: 044, Loss: 0.5262, HR@20: 0.0083, Recall@20: 0.0182, NDCG@20: 0.0143\n",
      "Epoch: 045, Loss: 0.5250, HR@20: 0.0083, Recall@20: 0.0182, NDCG@20: 0.0143\n",
      "Epoch: 046, Loss: 0.5058, HR@20: 0.0083, Recall@20: 0.0182, NDCG@20: 0.0144\n",
      "Epoch: 047, Loss: 0.5137, HR@20: 0.0083, Recall@20: 0.0182, NDCG@20: 0.0144\n",
      "Epoch: 048, Loss: 0.5303, HR@20: 0.0083, Recall@20: 0.0182, NDCG@20: 0.0144\n",
      "Epoch: 049, Loss: 0.5352, HR@20: 0.0083, Recall@20: 0.0182, NDCG@20: 0.0144\n",
      "Epoch: 050, Loss: 0.5187, HR@20: 0.0083, Recall@20: 0.0182, NDCG@20: 0.0144\n",
      "Running time: 1945.00s\n"
     ]
    }
   ],
   "source": [
    "config['regularization'] = False\n",
    "config['Contrastive_loss'] = True\n",
    "student, prompt, epoch_tracks, test_topks = prompt_BPRMF_unlearning_eva(teacher, student, retain_data, forget_data, config, device)"
   ]
  },
  {
   "cell_type": "code",
   "execution_count": 10,
   "id": "9ecdd4fd9a89cdc6",
   "metadata": {
    "ExecuteTime": {
     "end_time": "2024-09-23T07:32:23.672098Z",
     "start_time": "2024-09-23T07:32:17.608518Z"
    }
   },
   "outputs": [
    {
     "name": "stdout",
     "output_type": "stream",
     "text": [
      "HR@20: 0.0129, Recall@20: 0.0707, NDCG@20: 0.0405\n"
     ]
    }
   ],
   "source": [
    "# Test on the forget data\n",
    "BPRMF_forget_data_eva(student, prompt, forget_data, config['num_users'], config['k'], config['batch_size'], device)"
   ]
  },
  {
   "cell_type": "code",
   "execution_count": null,
   "id": "4fe87629947c99e0",
   "metadata": {},
   "outputs": [],
   "source": []
  }
 ],
 "metadata": {
  "kernelspec": {
   "display_name": "master",
   "language": "python",
   "name": "python3"
  },
  "language_info": {
   "codemirror_mode": {
    "name": "ipython",
    "version": 3
   },
   "file_extension": ".py",
   "mimetype": "text/x-python",
   "name": "python",
   "nbconvert_exporter": "python",
   "pygments_lexer": "ipython3",
   "version": "3.9.17"
  }
 },
 "nbformat": 4,
 "nbformat_minor": 5
}
