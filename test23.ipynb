{
 "cells": [
  {
   "cell_type": "code",
   "execution_count": null,
   "id": "initial_id",
   "metadata": {
    "collapsed": true
   },
   "outputs": [],
   "source": [
    "from model.BPRMF import *\n",
    "from preprocess.Gowalla import *\n",
    "from evaluation.BPRMF_evaluation import *\n",
    "pd.options.display.max_rows = 10\n",
    "device = torch.device('cuda' if torch.cuda.is_available() else 'cpu')\n",
    "path = './dataset/gowalla'\n",
    "dataset = Gowalla(path)\n",
    "\n",
    "# Data(num_nodes=144242, edge_index=[2, 2380730], edge_label_index=[2, 603378])\n",
    "data = dataset.get()\n",
    "num_users, num_books = dataset.getNumber()\n",
    "config = {\n",
    "    'k': 20,\n",
    "    'lr':0.001,\n",
    "    'epochs': 100,\n",
    "    'num_layers': 2,\n",
    "    'batch_size': 8192,\n",
    "    'embedding_dim': 64,\n",
    "    'num_users': num_users,\n",
    "    'num_books': num_books,\n",
    "    'tuning_type': None\n",
    "}\n",
    "model = BPRMF(\n",
    "    num_users= config['num_users'],\n",
    "    num_items= config['num_books'],\n",
    "    embedding_dim = config['embedding_dim']\n",
    ").to(device)"
   ]
  },
  {
   "metadata": {},
   "cell_type": "code",
   "outputs": [],
   "execution_count": null,
   "source": [
    "# Basic setting\n",
    "num_edges = data.edge_index.size(1)\n",
    "perm = torch.randperm(num_edges)\n",
    "split = int(num_edges * 0.1)  # 10% of edges will be retained\n",
    "\n",
    "# Define the data for forget and retain dataset\n",
    "forget_data = Data()\n",
    "retain_data = Data()\n",
    "\n",
    "forget_data.num_nodes = data.num_nodes\n",
    "retain_data.num_nodes = data.num_nodes\n",
    "forget_data.edge_index = data.edge_index[:, perm[:split]]\n",
    "retain_data.edge_index = data.edge_index[:, perm[split:]]\n",
    "forget_data.edge_label_index = data.edge_label_index\n",
    "retain_data.edge_label_index = data.edge_label_index"
   ],
   "id": "415a90f4271f4eed"
  },
  {
   "metadata": {},
   "cell_type": "code",
   "outputs": [],
   "execution_count": null,
   "source": [
    "config['epochs'] = 1000\n",
    "retrain_model = BPRMF(\n",
    "    num_users= config['num_users'],\n",
    "    num_items= config['num_books'],\n",
    "    embedding_dim = config['embedding_dim']\n",
    ").to(device)\n",
    "retrain_model, recall, ndcg = BPRMF_eva(retrain_model, config, retain_data, device)"
   ],
   "id": "f9bc05afe3d6c5ac"
  },
  {
   "metadata": {},
   "cell_type": "code",
   "outputs": [],
   "execution_count": null,
   "source": "BPRMF_forget_data_eva(retrain_model, None, forget_data, num_users, config['k'], config['batch_size'], device)",
   "id": "5f9853ee9ebcce38"
  },
  {
   "metadata": {},
   "cell_type": "code",
   "outputs": [],
   "execution_count": null,
   "source": [
    "# Define the model\n",
    "teacher = BPRMF(\n",
    "    num_users= config['num_users'],\n",
    "    num_items= config['num_books'],\n",
    "    embedding_dim = config['embedding_dim']\n",
    ").to(device)\n",
    "student = BPRMF(\n",
    "    num_users= config['num_users'],\n",
    "    num_items= config['num_books'],\n",
    "    embedding_dim = config['embedding_dim']\n",
    ").to(device)\n",
    "\n",
    "# Load the model\n",
    "teacher.load_state_dict(torch.load(f\"BPRMF_Gowalla_{config['epochs']}_Epochs_Top_{config['k']}.pt\"))\n",
    "student.load_state_dict(torch.load(f\"BPRMF_Gowalla_{config['epochs']}_Epochs_Top_{config['k']}.pt\"))"
   ],
   "id": "c4ceba56bd06685e"
  },
  {
   "metadata": {},
   "cell_type": "code",
   "outputs": [],
   "execution_count": null,
   "source": [
    "# Setting the basic hyperparameters\n",
    "config['beta'] = 0.7\n",
    "config['alpha'] = 0.3\n",
    "config['epochs'] = 50\n",
    "config['gamma'] = 1e-6 # contrastive loss\n",
    "config['delta'] = 1e-3 # regularization loss\n",
    "config['tuning_type'] = 'gpf'\n",
    "config['weight_decay'] = 0.001\n",
    "config['regularization'] = False\n",
    "config['Contrastive_loss'] = False\n",
    "student, prompt, epoch_tracks, test_topks = prompt_BPRMF_unlearning_eva(teacher, student, config, retain_data, forget_data, device)"
   ],
   "id": "a5112c84c71dd4c2"
  },
  {
   "metadata": {},
   "cell_type": "code",
   "outputs": [],
   "execution_count": null,
   "source": "BPRMF_forget_data_eva(student, prompt, forget_data, num_users, config['k'], config['batch_size'], device)",
   "id": "3ac8fbff28b32ea7"
  },
  {
   "metadata": {},
   "cell_type": "code",
   "outputs": [],
   "execution_count": null,
   "source": [
    "# Setting the basic hyperparameters\n",
    "config['contrastive_loss'] = False\n",
    "config['regularization'] = True\n",
    "\n",
    "student, prompt, epoch_tracks, test_topks = prompt_BPRMF_unlearning_eva(teacher, student, config, retain_data, forget_data, device)"
   ],
   "id": "83ea022a9a38d56"
  },
  {
   "metadata": {},
   "cell_type": "code",
   "outputs": [],
   "execution_count": null,
   "source": "BPRMF_forget_data_eva(student, prompt, forget_data, num_users, config['k'], config['batch_size'], device)",
   "id": "f4eeadb5398812ad"
  },
  {
   "metadata": {},
   "cell_type": "code",
   "outputs": [],
   "execution_count": null,
   "source": [
    "# Setting the basic hyperparameters\n",
    "config['contrastive_loss'] = True\n",
    "config['regularization'] = False\n",
    "\n",
    "student, prompt, epoch_tracks, test_topks = prompt_BPRMF_unlearning_eva(teacher, student, config, retain_data, forget_data, device)"
   ],
   "id": "974566a8fa65afdd"
  },
  {
   "metadata": {},
   "cell_type": "code",
   "outputs": [],
   "execution_count": null,
   "source": "BPRMF_forget_data_eva(student, prompt, forget_data, num_users, config['k'], config['batch_size'], device)",
   "id": "ce721863a32a41b2"
  },
  {
   "metadata": {},
   "cell_type": "code",
   "outputs": [],
   "execution_count": null,
   "source": [
    "# Setting the basic hyperparameters\n",
    "config['contrastive_loss'] = True\n",
    "config['regularization'] = True\n",
    "\n",
    "student, prompt, epoch_tracks, test_topks = prompt_BPRMF_unlearning_eva(teacher, student, config, retain_data, forget_data, device)"
   ],
   "id": "71fd4ad7bf937ed2"
  },
  {
   "metadata": {},
   "cell_type": "code",
   "outputs": [],
   "execution_count": null,
   "source": "BPRMF_forget_data_eva(student, prompt, forget_data, num_users, config['k'], config['batch_size'], device)",
   "id": "f3d29a6624c00f36"
  },
  {
   "metadata": {},
   "cell_type": "code",
   "outputs": [],
   "execution_count": null,
   "source": [
    "config['tuning_type'] = 'gpf-plus'\n",
    "config[\"number_p\"] = 10 # The number of prompts\n",
    "# Setting the basic hyperparameters\n",
    "config['contrastive_loss'] = True\n",
    "config['regularization'] = True\n",
    "\n",
    "student, prompt, epoch_tracks, test_topks = prompt_BPRMF_unlearning_eva(teacher, student, config, retain_data, forget_data, device)"
   ],
   "id": "9ad363c425eb51fd"
  },
  {
   "metadata": {},
   "cell_type": "code",
   "outputs": [],
   "execution_count": null,
   "source": "BPRMF_forget_data_eva(student, prompt, forget_data, num_users, config['k'], config['batch_size'], device)",
   "id": "7820fdae648de9a2"
  }
 ],
 "metadata": {
  "kernelspec": {
   "display_name": "Python 3",
   "language": "python",
   "name": "python3"
  },
  "language_info": {
   "codemirror_mode": {
    "name": "ipython",
    "version": 2
   },
   "file_extension": ".py",
   "mimetype": "text/x-python",
   "name": "python",
   "nbconvert_exporter": "python",
   "pygments_lexer": "ipython2",
   "version": "2.7.6"
  }
 },
 "nbformat": 4,
 "nbformat_minor": 5
}
